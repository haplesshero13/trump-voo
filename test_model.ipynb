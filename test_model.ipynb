{
 "cells": [
  {
   "cell_type": "markdown",
   "metadata": {
    "id": "cJ7RxgUNvlgX"
   },
   "source": [
    "# Backtesting the Model\n",
    "\n",
    "Once we have fetched the data and pretrained the model, we can now turn to using the model.\n",
    "\n",
    "---\n",
    "\n",
    "This notebook demonstrates how to:\n",
    "\n",
    "- **Load Model**: I have already fine-tuned models from the training output. Download them from Huggingface, or run the `prepare.py` and `torchrun` the `train.py` scripts to generate new weights.\n",
    "- **Generate Signals**: Run the test dataset (Trump's Truth Social posts from H1 2025) through the fine-tuned model to get predictions `(Bullish, Bearish, Neutral)`.\n",
    "- **Run VectorBT Backtest**: Use `vectorbt` to run a portfolio simulation.\n",
    "    - Use the signals to generate trade entries and exits.\n",
    "    - Compare the strategy's performance against the VOO price data (buy and hold benchmark)."
   ]
  },
  {
   "cell_type": "code",
   "execution_count": 87,
   "metadata": {},
   "outputs": [],
   "source": [
    "import os\n",
    "import io\n",
    "import time\n",
    "import requests\n",
    "import torch\n",
    "\n",
    "import xml.etree.ElementTree as ET\n",
    "import polars as pl\n",
    "import pandas as pd\n",
    "import numpy as np\n",
    "import yfinance as yf\n",
    "import datetime as dt\n",
    "import vectorbt as vbt\n",
    "\n",
    "from bs4 import BeautifulSoup\n",
    "from datetime import date\n",
    "from datasets import Dataset\n",
    "from transformers import (\n",
    "    AutoTokenizer,\n",
    "    AutoModelForSequenceClassification,\n",
    "    TrainingArguments,\n",
    "    Trainer,\n",
    "    pipeline\n",
    ")\n",
    "\n",
    "trump_start = dt.datetime(2017, 1, 17)\n",
    "trump_end = dt.datetime(2021, 1, 9)\n",
    "\n",
    "csv_filename = 'truths_data_2025_h1.csv'\n",
    "\n",
    "def fetch_truths(start_date, end_date):\n",
    "    url = f\"https://trumpstruth.org/feed?start_date={start_date}&end_date={end_date}\"\n",
    "    print(f\"Fetching data for {start_date} to {end_date}...\")\n",
    "\n",
    "    try:\n",
    "        response = requests.get(url, timeout=30)\n",
    "        response.raise_for_status()\n",
    "    except requests.exceptions.RequestException as e:\n",
    "        print(f\"  -> Error fetching data for this period: {e}\")\n",
    "        return pl.DataFrame()\n",
    "    except ET.ParseError:\n",
    "        print(\"  -> Failed to parse XML, skipping this period.\")\n",
    "        return pl.DataFrame()\n",
    "\n",
    "\n",
    "    rss_feed = io.StringIO(response.text)\n",
    "    tree = ET.parse(rss_feed)\n",
    "    root = tree.getroot()\n",
    "\n",
    "    posts = []\n",
    "    for item in root.findall('./channel/item'):\n",
    "        pub_date = item.find('pubDate').text\n",
    "        description_html = item.find('description').text\n",
    "        soup = BeautifulSoup(description_html, 'html.parser')\n",
    "        text_content = soup.get_text().strip()\n",
    "        posts.append({'date': pub_date, 'text': text_content})\n",
    "\n",
    "    return pl.DataFrame(posts)\n",
    "\n",
    "def fetch_h1():\n",
    "    weekly_date_ranges = pl.date_range(start=date(2025, 1, 20), end=date(2025, 6, 30), interval='1w', eager=True)\n",
    "    \n",
    "    all_posts_dfs = []\n",
    "    \n",
    "    for start_of_week in weekly_date_ranges.to_pandas():\n",
    "        end_of_week = start_of_week + pd.Timedelta(days=6)\n",
    "        start_str = start_of_week.strftime('%Y-%m-%d')\n",
    "        end_str = end_of_week.strftime('%Y-%m-%d')\n",
    "    \n",
    "        weekly_df = fetch_truths(start_str, end_str)\n",
    "    \n",
    "        all_posts_dfs.append(weekly_df)\n",
    "    \n",
    "        time.sleep(0.1)\n",
    "    \n",
    "    if all_posts_dfs:\n",
    "        final_df = pl.concat(all_posts_dfs).with_columns(\n",
    "            pl.col('date').str.to_datetime(\"%a, %d %b %Y %H:%M:%S %z\")\n",
    "        )\n",
    "        final_df.write_csv(csv_filename, separator=\",\")\n",
    "    \n",
    "        print(f\"\\n✅ Success! Scraped {len(final_df)} posts.\")\n",
    "        print(f\"Data saved to '{csv_filename}'.\")\n",
    "    else:\n",
    "        print(\"\\nNo data was fetched. The final CSV was not created.\")"
   ]
  },
  {
   "cell_type": "code",
   "execution_count": 88,
   "metadata": {},
   "outputs": [
    {
     "name": "stdout",
     "output_type": "stream",
     "text": [
      "Loaded and filtered 1329 posts.\n"
     ]
    },
    {
     "data": {
      "text/html": [
       "<div><style>\n",
       ".dataframe > thead > tr,\n",
       ".dataframe > tbody > tr {\n",
       "  text-align: right;\n",
       "  white-space: pre-wrap;\n",
       "}\n",
       "</style>\n",
       "<small>shape: (5, 2)</small><table border=\"1\" class=\"dataframe\"><thead><tr><th>date</th><th>text</th></tr><tr><td>datetime[μs]</td><td>str</td></tr></thead><tbody><tr><td>2025-01-26 21:19:22</td><td>&quot;RT @marklevinshowTonight on Li…</td></tr><tr><td>2025-01-26 20:58:10</td><td>&quot;The great Sean Hannity in the …</td></tr><tr><td>2025-01-26 19:05:24</td><td>&quot;Tonight on Life, Liberty &amp; Lev…</td></tr><tr><td>2025-01-26 18:28:31</td><td>&quot;I was just informed that two r…</td></tr><tr><td>2025-01-26 01:20:39</td><td>&quot;Be sure to watch Mark Levin&#x27;s …</td></tr></tbody></table></div>"
      ],
      "text/plain": [
       "shape: (5, 2)\n",
       "┌─────────────────────┬─────────────────────────────────┐\n",
       "│ date                ┆ text                            │\n",
       "│ ---                 ┆ ---                             │\n",
       "│ datetime[μs]        ┆ str                             │\n",
       "╞═════════════════════╪═════════════════════════════════╡\n",
       "│ 2025-01-26 21:19:22 ┆ RT @marklevinshowTonight on Li… │\n",
       "│ 2025-01-26 20:58:10 ┆ The great Sean Hannity in the … │\n",
       "│ 2025-01-26 19:05:24 ┆ Tonight on Life, Liberty & Lev… │\n",
       "│ 2025-01-26 18:28:31 ┆ I was just informed that two r… │\n",
       "│ 2025-01-26 01:20:39 ┆ Be sure to watch Mark Levin's … │\n",
       "└─────────────────────┴─────────────────────────────────┘"
      ]
     },
     "execution_count": 88,
     "metadata": {},
     "output_type": "execute_result"
    }
   ],
   "source": [
    "from pathlib import Path\n",
    "\n",
    "file_path = Path(csv_filename)\n",
    "\n",
    "if not file_path.is_file():\n",
    "    fetch_h1()\n",
    "\n",
    "schema_overrides = {\n",
    "    \"date\": pl.Datetime,\n",
    "    \"text\": pl.Utf8\n",
    "}\n",
    "\n",
    "# remove posts that contain no text or just http links\n",
    "dataset = (\n",
    "    pl.read_csv(file_path, schema_overrides=schema_overrides)\n",
    "    .drop_nulls()\n",
    "    .filter(\n",
    "        (pl.col(\"text\").str.strip_chars().str.len_chars() > 0) &\n",
    "        (~pl.col(\"text\").str.contains(r\"^https?://[\\S]+$\"))\n",
    "    )\n",
    ")\n",
    "\n",
    "print(f\"Loaded and filtered {len(dataset)} posts.\")\n",
    "dataset.head()"
   ]
  },
  {
   "cell_type": "code",
   "execution_count": 89,
   "metadata": {
    "scrolled": true
   },
   "outputs": [
    {
     "name": "stderr",
     "output_type": "stream",
     "text": [
      "Device set to use cuda:0\n"
     ]
    },
    {
     "data": {
      "text/html": [
       "<div>\n",
       "<style scoped>\n",
       "    .dataframe tbody tr th:only-of-type {\n",
       "        vertical-align: middle;\n",
       "    }\n",
       "\n",
       "    .dataframe tbody tr th {\n",
       "        vertical-align: top;\n",
       "    }\n",
       "\n",
       "    .dataframe thead th {\n",
       "        text-align: right;\n",
       "    }\n",
       "</style>\n",
       "<table border=\"1\" class=\"dataframe\">\n",
       "  <thead>\n",
       "    <tr style=\"text-align: right;\">\n",
       "      <th></th>\n",
       "      <th>date</th>\n",
       "      <th>text</th>\n",
       "      <th>predicted_label</th>\n",
       "      <th>prediction_score</th>\n",
       "    </tr>\n",
       "  </thead>\n",
       "  <tbody>\n",
       "    <tr>\n",
       "      <th>0</th>\n",
       "      <td>2025-01-26 21:19:22</td>\n",
       "      <td>RT @marklevinshowTonight on Life, Liberty &amp; Le...</td>\n",
       "      <td>BEARISH</td>\n",
       "      <td>0.387169</td>\n",
       "    </tr>\n",
       "    <tr>\n",
       "      <th>1</th>\n",
       "      <td>2025-01-26 20:58:10</td>\n",
       "      <td>The great Sean Hannity in the Oval Office prio...</td>\n",
       "      <td>NEUTRAL</td>\n",
       "      <td>0.391954</td>\n",
       "    </tr>\n",
       "    <tr>\n",
       "      <th>2</th>\n",
       "      <td>2025-01-26 19:05:24</td>\n",
       "      <td>Tonight on Life, Liberty &amp; Levin, 8PM Eastern ...</td>\n",
       "      <td>BEARISH</td>\n",
       "      <td>0.421105</td>\n",
       "    </tr>\n",
       "    <tr>\n",
       "      <th>3</th>\n",
       "      <td>2025-01-26 18:28:31</td>\n",
       "      <td>I was just informed that two repatriation flig...</td>\n",
       "      <td>NEUTRAL</td>\n",
       "      <td>0.380059</td>\n",
       "    </tr>\n",
       "    <tr>\n",
       "      <th>4</th>\n",
       "      <td>2025-01-26 01:20:39</td>\n",
       "      <td>Be sure to watch Mark Levin's Show on Fox toni...</td>\n",
       "      <td>BEARISH</td>\n",
       "      <td>0.451203</td>\n",
       "    </tr>\n",
       "  </tbody>\n",
       "</table>\n",
       "</div>"
      ],
      "text/plain": [
       "                 date                                               text  \\\n",
       "0 2025-01-26 21:19:22  RT @marklevinshowTonight on Life, Liberty & Le...   \n",
       "1 2025-01-26 20:58:10  The great Sean Hannity in the Oval Office prio...   \n",
       "2 2025-01-26 19:05:24  Tonight on Life, Liberty & Levin, 8PM Eastern ...   \n",
       "3 2025-01-26 18:28:31  I was just informed that two repatriation flig...   \n",
       "4 2025-01-26 01:20:39  Be sure to watch Mark Levin's Show on Fox toni...   \n",
       "\n",
       "  predicted_label  prediction_score  \n",
       "0         BEARISH          0.387169  \n",
       "1         NEUTRAL          0.391954  \n",
       "2         BEARISH          0.421105  \n",
       "3         NEUTRAL          0.380059  \n",
       "4         BEARISH          0.451203  "
      ]
     },
     "metadata": {},
     "output_type": "display_data"
    }
   ],
   "source": [
    "from transformers import pipeline, AutoTokenizer\n",
    "import pandas as pd\n",
    "\n",
    "# use ./ for local model if you trained, or use the HF downloader\n",
    "model_path = \"./bert-trump-tweet-voo\" # Or \"yen-av/bert-trump-tweet-voo\"\n",
    "\n",
    "tokenizer = AutoTokenizer.from_pretrained(model_path)\n",
    "\n",
    "# truncate because Truth Social character limits > Twitter\n",
    "classifier = pipeline(\n",
    "    \"text-classification\",\n",
    "    model=model_path,\n",
    "    tokenizer=tokenizer,\n",
    "    truncation=True,\n",
    "    max_length=512\n",
    ")\n",
    "\n",
    "test_data_df = dataset.to_pandas()\n",
    "\n",
    "predictions = classifier(test_data_df['text'].tolist())\n",
    "\n",
    "test_data_df['predicted_label'] = [p['label'] for p in predictions]\n",
    "test_data_df['prediction_score'] = [p['score'] for p in predictions]\n",
    "\n",
    "display(test_data_df.head())"
   ]
  },
  {
   "cell_type": "code",
   "execution_count": 90,
   "metadata": {},
   "outputs": [
    {
     "name": "stderr",
     "output_type": "stream",
     "text": [
      "/tmp/ipykernel_11430/10135582.py:13: FutureWarning:\n",
      "\n",
      "YF.download() has changed argument auto_adjust default to True\n",
      "\n",
      "[*********************100%***********************]  1 of 1 completed"
     ]
    },
    {
     "name": "stdout",
     "output_type": "stream",
     "text": [
      "Backtest Results for H1 2025\n",
      "==============================\n",
      "Start                         2025-01-21 00:00:00\n",
      "End                           2025-07-07 00:00:00\n",
      "Period                          115 days 00:00:00\n",
      "Start Value                             1000000.0\n",
      "End Value                          1143054.719378\n",
      "Total Return [%]                        14.305472\n",
      "Benchmark Return [%]                     3.588362\n",
      "Max Gross Exposure [%]                      100.0\n",
      "Total Fees Paid                      31065.492263\n",
      "Max Drawdown [%]                         2.609814\n",
      "Max Drawdown Duration            34 days 00:00:00\n",
      "Total Trades                                 15.0\n",
      "Total Closed Trades                          14.0\n",
      "Total Open Trades                             1.0\n",
      "Open Trade PnL                       -1143.054719\n",
      "Win Rate [%]                            64.285714\n",
      "Best Trade [%]                           10.02328\n",
      "Worst Trade [%]                         -2.260315\n",
      "Avg Winning Trade [%]                    2.283071\n",
      "Avg Losing Trade [%]                    -1.253137\n",
      "Avg Winning Trade Duration        2 days 16:00:00\n",
      "Avg Losing Trade Duration         2 days 04:48:00\n",
      "Profit Factor                            3.122601\n",
      "Expectancy                           10299.841007\n",
      "Sharpe Ratio                             2.300301\n",
      "Calmar Ratio                            20.255104\n",
      "Omega Ratio                              2.280407\n",
      "Sortino Ratio                            7.017982\n",
      "Name: agg_func_mean, dtype: object\n",
      "\n",
      "\n",
      "Performance vs. Buy and Hold (VOO)\n",
      "==============================\n"
     ]
    },
    {
     "data": {
      "application/vnd.plotly.v1+json": {
       "config": {
        "plotlyServerURL": "https://plot.ly"
       },
       "data": [
        {
         "legendgroup": "0",
         "line": {
          "color": "#1f77b4"
         },
         "name": "Close",
         "showlegend": true,
         "type": "scatter",
         "uid": "457f81b9-0da9-4277-9d0a-dfb8475d5588",
         "x": [
          "2025-01-21T00:00:00.000000000",
          "2025-01-22T00:00:00.000000000",
          "2025-01-23T00:00:00.000000000",
          "2025-01-24T00:00:00.000000000",
          "2025-01-27T00:00:00.000000000",
          "2025-01-28T00:00:00.000000000",
          "2025-01-29T00:00:00.000000000",
          "2025-01-30T00:00:00.000000000",
          "2025-01-31T00:00:00.000000000",
          "2025-02-03T00:00:00.000000000",
          "2025-02-04T00:00:00.000000000",
          "2025-02-05T00:00:00.000000000",
          "2025-02-06T00:00:00.000000000",
          "2025-02-07T00:00:00.000000000",
          "2025-02-10T00:00:00.000000000",
          "2025-02-11T00:00:00.000000000",
          "2025-02-12T00:00:00.000000000",
          "2025-02-13T00:00:00.000000000",
          "2025-02-14T00:00:00.000000000",
          "2025-02-18T00:00:00.000000000",
          "2025-02-19T00:00:00.000000000",
          "2025-02-20T00:00:00.000000000",
          "2025-02-21T00:00:00.000000000",
          "2025-02-24T00:00:00.000000000",
          "2025-02-25T00:00:00.000000000",
          "2025-02-26T00:00:00.000000000",
          "2025-02-27T00:00:00.000000000",
          "2025-02-28T00:00:00.000000000",
          "2025-03-03T00:00:00.000000000",
          "2025-03-04T00:00:00.000000000",
          "2025-03-05T00:00:00.000000000",
          "2025-03-06T00:00:00.000000000",
          "2025-03-07T00:00:00.000000000",
          "2025-03-10T00:00:00.000000000",
          "2025-03-11T00:00:00.000000000",
          "2025-03-12T00:00:00.000000000",
          "2025-03-13T00:00:00.000000000",
          "2025-03-14T00:00:00.000000000",
          "2025-03-17T00:00:00.000000000",
          "2025-03-18T00:00:00.000000000",
          "2025-03-19T00:00:00.000000000",
          "2025-03-20T00:00:00.000000000",
          "2025-03-21T00:00:00.000000000",
          "2025-03-24T00:00:00.000000000",
          "2025-03-25T00:00:00.000000000",
          "2025-03-26T00:00:00.000000000",
          "2025-03-27T00:00:00.000000000",
          "2025-03-28T00:00:00.000000000",
          "2025-03-31T00:00:00.000000000",
          "2025-04-01T00:00:00.000000000",
          "2025-04-02T00:00:00.000000000",
          "2025-04-03T00:00:00.000000000",
          "2025-04-04T00:00:00.000000000",
          "2025-04-07T00:00:00.000000000",
          "2025-04-08T00:00:00.000000000",
          "2025-04-09T00:00:00.000000000",
          "2025-04-10T00:00:00.000000000",
          "2025-04-11T00:00:00.000000000",
          "2025-04-14T00:00:00.000000000",
          "2025-04-15T00:00:00.000000000",
          "2025-04-16T00:00:00.000000000",
          "2025-04-17T00:00:00.000000000",
          "2025-04-21T00:00:00.000000000",
          "2025-04-22T00:00:00.000000000",
          "2025-04-23T00:00:00.000000000",
          "2025-04-24T00:00:00.000000000",
          "2025-04-25T00:00:00.000000000",
          "2025-04-28T00:00:00.000000000",
          "2025-04-29T00:00:00.000000000",
          "2025-04-30T00:00:00.000000000",
          "2025-05-01T00:00:00.000000000",
          "2025-05-02T00:00:00.000000000",
          "2025-05-05T00:00:00.000000000",
          "2025-05-06T00:00:00.000000000",
          "2025-05-07T00:00:00.000000000",
          "2025-05-08T00:00:00.000000000",
          "2025-05-09T00:00:00.000000000",
          "2025-05-12T00:00:00.000000000",
          "2025-05-13T00:00:00.000000000",
          "2025-05-14T00:00:00.000000000",
          "2025-05-15T00:00:00.000000000",
          "2025-05-16T00:00:00.000000000",
          "2025-05-19T00:00:00.000000000",
          "2025-05-20T00:00:00.000000000",
          "2025-05-21T00:00:00.000000000",
          "2025-05-22T00:00:00.000000000",
          "2025-05-23T00:00:00.000000000",
          "2025-05-27T00:00:00.000000000",
          "2025-05-28T00:00:00.000000000",
          "2025-05-29T00:00:00.000000000",
          "2025-05-30T00:00:00.000000000",
          "2025-06-02T00:00:00.000000000",
          "2025-06-03T00:00:00.000000000",
          "2025-06-04T00:00:00.000000000",
          "2025-06-05T00:00:00.000000000",
          "2025-06-06T00:00:00.000000000",
          "2025-06-09T00:00:00.000000000",
          "2025-06-10T00:00:00.000000000",
          "2025-06-11T00:00:00.000000000",
          "2025-06-12T00:00:00.000000000",
          "2025-06-13T00:00:00.000000000",
          "2025-06-16T00:00:00.000000000",
          "2025-06-17T00:00:00.000000000",
          "2025-06-18T00:00:00.000000000",
          "2025-06-20T00:00:00.000000000",
          "2025-06-23T00:00:00.000000000",
          "2025-06-24T00:00:00.000000000",
          "2025-06-25T00:00:00.000000000",
          "2025-06-26T00:00:00.000000000",
          "2025-06-27T00:00:00.000000000",
          "2025-06-30T00:00:00.000000000",
          "2025-07-01T00:00:00.000000000",
          "2025-07-02T00:00:00.000000000",
          "2025-07-03T00:00:00.000000000",
          "2025-07-07T00:00:00.000000000"
         ],
         "xaxis": "x",
         "y": {
          "bdata": "AAAA4C4qgUAAAACgJUOBQAAAAKCiW4FAAAAAAD5OgUAAAACglRCBQAAAAOAyNYFAAAAAgNwhgUAAAADgwziBQAAAAEA6IYFAAAAAgHUEgUAAAADAYiGBQAAAACBgM4FAAAAAwDlDgUAAAACgRRiBQAAAAKCTN4FAAAAA4Ik7gUAAAADg9CyBQAAAAOBlW4FAAAAAgI5bgUAAAABAZWiBQAAAAGAsc4FAAAAAIGRggUAAAACgtBSBQAAAAGAFAIFAAAAAoGLqgEAAAACAFO2AQAAAACB/p4BAAAAAQMDpgEAAAADALJ+AQAAAAIDma4BAAAAAAA6bgEAAAABA8U2AQAAAAEBzZIBAAAAAAP/qf0AAAAAA86d/QAAAAABCz39AAAAA4OZkf0AAAADg8wSAQAAAAIBBJIBAAAAA4FXxf0AAAABgnyOAQAAAAMAcGoBAAAAAgCQbgEAAAADAf2OAQAAAACB8bYBAAAAAwG08gEAAAAAg/jCAQAAAAABpvH9AAAAAIODtf0AAAADg9wWAQAAAAICzHoBAAAAAIL+zfkAAAABAOOx8QAAAAKALzXxAAAAAQJJgfEAAAACgUQJ/QAAAAABL831AAAAAAFR6fkAAAADgvch+QAAAACCisn5AAAAAAOcFfkAAAAAAjxB+QAAAAMArWX1AAAAAIMMWfkAAAABAgZJ+QAAAACD3Nn9AAAAAgNBxf0AAAADgvnZ/QAAAAACTp39AAAAAAI2rf0AAAADg9+R/QAAAACAELYBAAAAAgGIXgEAAAACgoOh/QAAAAIDDBoBAAAAAAB8igEAAAABAohyAQAAAAKD5pYBAAAAAAPjBgEAAAADgS8eAQAAAACBf3IBAAAAAoDT4gEAAAADAqPyAQAAAACA77YBAAAAAQMikgEAAAABgxaaAQAAAAGD7iYBAAAAAAPzggEAAAACgVMiAQAAAAEDf2IBAAAAAIGvUgEAAAAAgeO2AQAAAACALBoFAAAAAgEIDgUAAAACg5u6AQAAAAGAyG4FAAAAAoOMfgUAAAABA3DiBQAAAAGCxLIFAAAAAYFA9gUAAAADAKgyBQAAAAOBQNoFAAAAAgMcQgUAAAACA5w+BQAAAAADRA4FAAAAAQKswgUAAAACABWGBQAAAAIA/Y4FAAAAAgHqGgUAAAADgvpyBQAAAAABIs4FAAAAAADWxgUAAAABAT8WBQAAAAACj7IFAAAAAwNzHgUA=",
          "dtype": "f8"
         },
         "yaxis": "y"
        },
        {
         "customdata": {
          "bdata": "AAAAAAAAAAA7aaWG+0GcQACgwwsCOI9AAAAAAAAAAEBhztd+lXycQAD0osQQPI9AAAAAAAAAEEDLHPe6ZcWcQACYiU3DVY9AAAAAAAAAGEAv6pv6c1acQABY56vkeo9AAAAAAAAAIEC7D/tmuCeeQABkJkaN6o5AAAAAAAAAJEBBRbT8bWqeQAAwNOgHF49AAAAAAAAAKEAujXxih/igQACIZCQaSI9AAAAAAAAALEAscIs80BuhQADoux9rzpBAAAAAAAAAMECx4bFLwX2hQADw0nJEbZBAAAAAAAAAMkCEGFSCyqOgQADkmxxaEpJAAAAAAAAANEBUJfUigragQACok4jXDZJAAAAAAAAANkBQrGJRL3SgQADYWC9K6pFAAAAAAAAAOEBbphSTlmKgQAB8LJCrDJJAAAAAAAAAOkAD9WWxb5ifQACAt3OWzpFAAAAAAAAAPEAxey7yxmOfQABQWwg43JFA",
          "dtype": "f8",
          "shape": "15, 3"
         },
         "hovertemplate": "Order Id: %{customdata[0]}<br>Timestamp: %{x}<br>Price: %{y}<br>Size: %{customdata[1]:.6f}<br>Fees: %{customdata[2]:.6f}",
         "legendgroup": "1",
         "marker": {
          "color": "#37B13F",
          "line": {
           "color": "rgb(38,123,44)",
           "width": 1
          },
          "size": 8,
          "symbol": "triangle-up"
         },
         "mode": "markers",
         "name": "Buy",
         "type": "scatter",
         "uid": "0581edd5-a2de-4078-a61d-fb3e6d69da85",
         "x": [
          "2025-01-22T00:00:00.000000000",
          "2025-01-29T00:00:00.000000000",
          "2025-02-03T00:00:00.000000000",
          "2025-02-14T00:00:00.000000000",
          "2025-03-14T00:00:00.000000000",
          "2025-03-18T00:00:00.000000000",
          "2025-04-07T00:00:00.000000000",
          "2025-04-15T00:00:00.000000000",
          "2025-04-21T00:00:00.000000000",
          "2025-05-16T00:00:00.000000000",
          "2025-05-27T00:00:00.000000000",
          "2025-06-04T00:00:00.000000000",
          "2025-06-16T00:00:00.000000000",
          "2025-06-27T00:00:00.000000000",
          "2025-07-07T00:00:00.000000000"
         ],
         "xaxis": "x",
         "y": {
          "bdata": "AAAAoCVDgUAAAACA3CGBQAAAAIB1BIFAAAAAgI5bgUAAAADg8wSAQAAAAOBV8X9AAAAAoAvNfEAAAAAgorJ+QAAAAMArWX1AAAAAoDT4gEAAAAAA/OCAQAAAAIBCA4FAAAAA4FA2gUAAAADgvpyBQAAAAMDcx4FA",
          "dtype": "f8"
         },
         "yaxis": "y"
        },
        {
         "customdata": {
          "bdata": "AAAAAAAA8D87aaWG+0GcQF8SC9oSTI9AAAAAAAAACEBhztd+lXycQLyMho7SZY9AAAAAAAAAFEDLHPe6ZcWcQN0cg/QGi49AAAAAAAAAHEAv6pv6c1acQIRxtJRl+o5AAAAAAAAAIkC7D/tmuCeeQAL4jAL3Jo9AAAAAAAAAJkBBRbT8bWqeQBTNCmUiWI9AAAAAAAAAKkAujXxih/igQBQN0SoI15BAAAAAAAAALkAscIs80BuhQDnMX7OvdZBAAAAAAAAAMUCx4bFLwX2hQFJ4zyydG5JAAAAAAAAAM0CEGFSCyqOgQMLcCkkYF5JAAAAAAAAANUBUJfUigragQFH2Qbd485FAAAAAAAAAN0BQrGJRL3SgQGGe5rbrFZJAAAAAAAAAOUBbphSTlmKgQC2NBsm215FAAAAAAAAAO0AD9WWxb5ifQLKCHlpf5ZFA",
          "dtype": "f8",
          "shape": "14, 3"
         },
         "hovertemplate": "Order Id: %{customdata[0]}<br>Timestamp: %{x}<br>Price: %{y}<br>Size: %{customdata[1]:.6f}<br>Fees: %{customdata[2]:.6f}",
         "legendgroup": "2",
         "marker": {
          "color": "#EA4335",
          "line": {
           "color": "rgb(181,31,18)",
           "width": 1
          },
          "size": 8,
          "symbol": "triangle-down"
         },
         "mode": "markers",
         "name": "Sell",
         "type": "scatter",
         "uid": "98e1d887-d7e3-4056-8001-72a3887f79d1",
         "x": [
          "2025-01-24T00:00:00.000000000",
          "2025-01-30T00:00:00.000000000",
          "2025-02-04T00:00:00.000000000",
          "2025-02-21T00:00:00.000000000",
          "2025-03-17T00:00:00.000000000",
          "2025-03-20T00:00:00.000000000",
          "2025-04-09T00:00:00.000000000",
          "2025-04-17T00:00:00.000000000",
          "2025-05-02T00:00:00.000000000",
          "2025-05-19T00:00:00.000000000",
          "2025-05-28T00:00:00.000000000",
          "2025-06-11T00:00:00.000000000",
          "2025-06-20T00:00:00.000000000",
          "2025-06-30T00:00:00.000000000"
         ],
         "xaxis": "x",
         "y": {
          "bdata": "AAAAAD5OgUAAAADgwziBQAAAAMBiIYFAAAAAoLQUgUAAAACAQSSAQAAAAMAcGoBAAAAAoFECf0AAAAAAjxB+QAAAACAELYBAAAAAwKj8gEAAAACgVMiAQAAAAGCxLIFAAAAAANEDgUAAAAAASLOBQA==",
          "dtype": "f8"
         },
         "yaxis": "y"
        },
        {
         "customdata": {
          "bdata": "AAAAAAAAAAAAAAAAAAAAAEJjacIhu39At9aPkh6nQD8AAAAAAADwPwAAAAAAAPA/0Z92U8YeqUCIU5dZeVpqPwAAAAAAAABAAAAAAAAAAEBkzpI/7yWyQBALmhxm+nI/AAAAAAAAEEAAAAAAAAAQQICa/nRwvbVARJ+SicoKdz8AAAAAAAAUQAAAAAAAABRA3k4hqwn8t0A/J7L3b0d5PwAAAAAAABhAAAAAAAAAGECM27wLpzryQKEco5hjGLM/AAAAAAAAIEAAAAAAAAAgQE8ii9MGuvlAnaI/RNuouT8AAAAAAAAmQAAAAAAAACZANHtxc9jNwEDsZO6AV7x+PwAAAAAAACpAAAAAAAAAKkCnjD8aZ6aqQCzb4tA2hWg/",
          "dtype": "f8",
          "shape": "9, 4"
         },
         "hovertemplate": "Exit Trade Id: %{customdata[0]}<br>Position Id: %{customdata[1]}<br>Exit Timestamp: %{x}<br>PnL: %{customdata[2]:.6f}<br>Return: %{customdata[3]:.2%}",
         "legendgroup": "3",
         "marker": {
          "color": "#37B13F",
          "line": {
           "color": "rgb(38,123,44)",
           "width": 1
          },
          "opacity": {
           "bdata": "AAAAAAAA6D9P9NqSYCHoP5XCJl3UMug/tBsSKQ4/6D+PcO3XyEXoP+8MDJnXkOs/zczMzMzM7D/Tg1QhM1boP2kuab2eHug/",
           "dtype": "f8"
          },
          "size": {
           "bdata": "AAAAAAAAHEB65qdYs8IcQBJvt3SBKB1A7fY+mtJvHUDuZT6WE5cdQA57uNN0ZihAAAAAAAAALECiqxft1PYdQGU5kPudshxA",
           "dtype": "f8"
          },
          "symbol": "circle"
         },
         "mode": "markers",
         "name": "Closed - Profit",
         "type": "scatter",
         "uid": "f79a16e0-0d6a-483c-8d4b-4f9469c2ea62",
         "x": [
          "2025-01-24T00:00:00.000000000",
          "2025-01-30T00:00:00.000000000",
          "2025-02-04T00:00:00.000000000",
          "2025-03-17T00:00:00.000000000",
          "2025-03-20T00:00:00.000000000",
          "2025-04-09T00:00:00.000000000",
          "2025-05-02T00:00:00.000000000",
          "2025-06-11T00:00:00.000000000",
          "2025-06-30T00:00:00.000000000"
         ],
         "xaxis": "x2",
         "y": {
          "bdata": "t9aPkh6nQD+IU5dZeVpqPxALmhxm+nI/RJ+SicoKdz8/J7L3b0d5P6Eco5hjGLM/naI/RNuouT/sZO6AV7x+Pyzb4tA2hWg/",
          "dtype": "f8"
         },
         "yaxis": "y2"
        },
        {
         "customdata": {
          "bdata": "AAAAAAAACEAAAAAAAAAIQCz1++Yto9HA7FmD1+hbkr8AAAAAAAAcQAAAAAAAABxAREGvoQO+18BE2Ez9RyWXvwAAAAAAACJAAAAAAAAAIkDCEDvUlKKRwJ6jfWLx+U+/AAAAAAAAJEAAAAAAAAAkQEpo3zx2YMHAoNNfrOyJf78AAAAAAAAoQAAAAAAAAChApmSsiBFYzsAnk8bER4uLvw==",
          "dtype": "f8",
          "shape": "5, 4"
         },
         "hovertemplate": "Exit Trade Id: %{customdata[0]}<br>Position Id: %{customdata[1]}<br>Exit Timestamp: %{x}<br>PnL: %{customdata[2]:.6f}<br>Return: %{customdata[3]:.2%}",
         "legendgroup": "4",
         "marker": {
          "color": "#EA4335",
          "line": {
           "color": "rgb(181,31,18)",
           "width": 1
          },
          "opacity": {
           "bdata": "5YHjlafW6D87vpKnQBDpP2ZDFB/DBeg/Us/flJ1Y6D8KBQhwdZ/oPw==",
           "dtype": "f8"
          },
          "size": {
           "bdata": "huUsdRNyIECAVcHoERohQNMz9t+cIRxAtY4Zj+wEHkBnHYQNLaIfQA==",
           "dtype": "f8"
          },
          "symbol": "circle"
         },
         "mode": "markers",
         "name": "Closed - Loss",
         "type": "scatter",
         "uid": "7e261e15-b679-4b41-a7c2-0dad59ee9ad2",
         "x": [
          "2025-02-21T00:00:00.000000000",
          "2025-04-17T00:00:00.000000000",
          "2025-05-19T00:00:00.000000000",
          "2025-05-28T00:00:00.000000000",
          "2025-06-20T00:00:00.000000000"
         ],
         "xaxis": "x2",
         "y": {
          "bdata": "7FmD1+hbkr9E2Ez9RyWXv56jfWLx+U+/oNNfrOyJf78nk8bER4uLvw==",
          "dtype": "f8"
         },
         "yaxis": "y2"
        },
        {
         "customdata": {
          "bdata": "AAAAAAAALEAAAAAAAAAsQABQWwg43JHA/6jx0k1iUL8=",
          "dtype": "f8",
          "shape": "1, 4"
         },
         "hovertemplate": "Exit Trade Id: %{customdata[0]}<br>Position Id: %{customdata[1]}<br>Exit Timestamp: %{x}<br>PnL: %{customdata[2]:.6f}<br>Return: %{customdata[3]:.2%}",
         "legendgroup": "5",
         "marker": {
          "color": "#FFAA00",
          "line": {
           "color": "rgb(178,118,0)",
           "width": 1
          },
          "opacity": {
           "bdata": "FKOoVA8G6D8=",
           "dtype": "f8"
          },
          "size": {
           "bdata": "S7fXbVkjHEA=",
           "dtype": "f8"
          },
          "symbol": "circle"
         },
         "mode": "markers",
         "name": "Open",
         "type": "scatter",
         "uid": "f58181a7-4ff3-426a-99ee-ce9cc28a6528",
         "x": [
          "2025-07-07T00:00:00.000000000"
         ],
         "xaxis": "x2",
         "y": {
          "bdata": "/6jx0k1iUL8=",
          "dtype": "f8"
         },
         "yaxis": "y2"
        },
        {
         "legendgroup": "6",
         "line": {
          "color": "#7f7f7f"
         },
         "name": "Benchmark",
         "showlegend": true,
         "type": "scatter",
         "uid": "f66dc8f4-3356-4d08-8e1f-3f471b6993d6",
         "x": [
          "2025-01-21T00:00:00.000000000",
          "2025-01-22T00:00:00.000000000",
          "2025-01-23T00:00:00.000000000",
          "2025-01-24T00:00:00.000000000",
          "2025-01-27T00:00:00.000000000",
          "2025-01-28T00:00:00.000000000",
          "2025-01-29T00:00:00.000000000",
          "2025-01-30T00:00:00.000000000",
          "2025-01-31T00:00:00.000000000",
          "2025-02-03T00:00:00.000000000",
          "2025-02-04T00:00:00.000000000",
          "2025-02-05T00:00:00.000000000",
          "2025-02-06T00:00:00.000000000",
          "2025-02-07T00:00:00.000000000",
          "2025-02-10T00:00:00.000000000",
          "2025-02-11T00:00:00.000000000",
          "2025-02-12T00:00:00.000000000",
          "2025-02-13T00:00:00.000000000",
          "2025-02-14T00:00:00.000000000",
          "2025-02-18T00:00:00.000000000",
          "2025-02-19T00:00:00.000000000",
          "2025-02-20T00:00:00.000000000",
          "2025-02-21T00:00:00.000000000",
          "2025-02-24T00:00:00.000000000",
          "2025-02-25T00:00:00.000000000",
          "2025-02-26T00:00:00.000000000",
          "2025-02-27T00:00:00.000000000",
          "2025-02-28T00:00:00.000000000",
          "2025-03-03T00:00:00.000000000",
          "2025-03-04T00:00:00.000000000",
          "2025-03-05T00:00:00.000000000",
          "2025-03-06T00:00:00.000000000",
          "2025-03-07T00:00:00.000000000",
          "2025-03-10T00:00:00.000000000",
          "2025-03-11T00:00:00.000000000",
          "2025-03-12T00:00:00.000000000",
          "2025-03-13T00:00:00.000000000",
          "2025-03-14T00:00:00.000000000",
          "2025-03-17T00:00:00.000000000",
          "2025-03-18T00:00:00.000000000",
          "2025-03-19T00:00:00.000000000",
          "2025-03-20T00:00:00.000000000",
          "2025-03-21T00:00:00.000000000",
          "2025-03-24T00:00:00.000000000",
          "2025-03-25T00:00:00.000000000",
          "2025-03-26T00:00:00.000000000",
          "2025-03-27T00:00:00.000000000",
          "2025-03-28T00:00:00.000000000",
          "2025-03-31T00:00:00.000000000",
          "2025-04-01T00:00:00.000000000",
          "2025-04-02T00:00:00.000000000",
          "2025-04-03T00:00:00.000000000",
          "2025-04-04T00:00:00.000000000",
          "2025-04-07T00:00:00.000000000",
          "2025-04-08T00:00:00.000000000",
          "2025-04-09T00:00:00.000000000",
          "2025-04-10T00:00:00.000000000",
          "2025-04-11T00:00:00.000000000",
          "2025-04-14T00:00:00.000000000",
          "2025-04-15T00:00:00.000000000",
          "2025-04-16T00:00:00.000000000",
          "2025-04-17T00:00:00.000000000",
          "2025-04-21T00:00:00.000000000",
          "2025-04-22T00:00:00.000000000",
          "2025-04-23T00:00:00.000000000",
          "2025-04-24T00:00:00.000000000",
          "2025-04-25T00:00:00.000000000",
          "2025-04-28T00:00:00.000000000",
          "2025-04-29T00:00:00.000000000",
          "2025-04-30T00:00:00.000000000",
          "2025-05-01T00:00:00.000000000",
          "2025-05-02T00:00:00.000000000",
          "2025-05-05T00:00:00.000000000",
          "2025-05-06T00:00:00.000000000",
          "2025-05-07T00:00:00.000000000",
          "2025-05-08T00:00:00.000000000",
          "2025-05-09T00:00:00.000000000",
          "2025-05-12T00:00:00.000000000",
          "2025-05-13T00:00:00.000000000",
          "2025-05-14T00:00:00.000000000",
          "2025-05-15T00:00:00.000000000",
          "2025-05-16T00:00:00.000000000",
          "2025-05-19T00:00:00.000000000",
          "2025-05-20T00:00:00.000000000",
          "2025-05-21T00:00:00.000000000",
          "2025-05-22T00:00:00.000000000",
          "2025-05-23T00:00:00.000000000",
          "2025-05-27T00:00:00.000000000",
          "2025-05-28T00:00:00.000000000",
          "2025-05-29T00:00:00.000000000",
          "2025-05-30T00:00:00.000000000",
          "2025-06-02T00:00:00.000000000",
          "2025-06-03T00:00:00.000000000",
          "2025-06-04T00:00:00.000000000",
          "2025-06-05T00:00:00.000000000",
          "2025-06-06T00:00:00.000000000",
          "2025-06-09T00:00:00.000000000",
          "2025-06-10T00:00:00.000000000",
          "2025-06-11T00:00:00.000000000",
          "2025-06-12T00:00:00.000000000",
          "2025-06-13T00:00:00.000000000",
          "2025-06-16T00:00:00.000000000",
          "2025-06-17T00:00:00.000000000",
          "2025-06-18T00:00:00.000000000",
          "2025-06-20T00:00:00.000000000",
          "2025-06-23T00:00:00.000000000",
          "2025-06-24T00:00:00.000000000",
          "2025-06-25T00:00:00.000000000",
          "2025-06-26T00:00:00.000000000",
          "2025-06-27T00:00:00.000000000",
          "2025-06-30T00:00:00.000000000",
          "2025-07-01T00:00:00.000000000",
          "2025-07-02T00:00:00.000000000",
          "2025-07-03T00:00:00.000000000",
          "2025-07-07T00:00:00.000000000"
         ],
         "xaxis": "x3",
         "y": {
          "bdata": "AAAAAAAA8D+sdykVRRfwP3c7V60YLvA/s3y7tpwh8D8a64LjRtDvP5NVhaNECvA/IdHmYHzw7z9yABGvlw3wP2YUDeZN7+8/COf+66u57z9fae9mme/vP1Abz4+RCPA/tPKN11cX8D/PKBrMm97vP/XYbxR8DPA/DG4WgS0Q8D+ZbQXSlQLwP7l7rQzgLfA/a8Dy6gUu8D9DUC6i/TnwP+jLNYcJRPA/OUIsj4cy8D8S0wK19dfvP7AgEt1lse8/zJ4yERCJ7z/sg3QwFo7vP6BPRQVdDO8/p62wWuGH7z/DICxm2fzuPyGeYVtCne4/m6H8Cyv17j/5uMC0aGXuP+LfHbRej+4/OXu1FIbA7T8nqU3OBoLtP4th3vGqpu0/37wRaodD7T+PVf3hVd3tP29ByouxF+4/fnly1G7G7T8duZhMgxbuP0k7PXjIBO4/SDWdLLQG7j9iEC/AmI3uP/f1gY42oO4/5IexMcJE7j9Zl+5FcC/uP1sgz1wZle0/Xh+FLzXD7T8/K6eYOt/tP3VEMYlWDe4/E5umK2We7D/fLhGex/XqPxy/5Yu42Oo/Owz1j5tz6j/7oI66oufsP8lNuE8A6+s/lk3tgd9o7D/KDpAy97HsPzI3nYJbnew/05p1CFn86z9fmS/qRwbsPz/keXBWW+s/lyKYRRAM7D9zwoHDaH/sP/GGG6q1GO0/tcFouZBP7T8kiK5vKVTtP4wL/1Gtge0/y7KAPWKF7T/iy5Gr57rtP9tI624GKO4/qJ71u7L/7T++6YjaUL7tP9Gr/DW24O0/EC8rt7YT7j+2cj7dewnuP75g5+GGCe8/xKY4CLc97z/mcEqupUfvP57r3vPvbu8/bj9V5tOi7z/qkkhqIavvP77GezJeju8/Ezq7k00H7z+8FeW6AgvvPyFPPvdW1e4/6PwEcIl37z8vDuw/k0nvPx6iy8lpaO8/o07YRRxg7z8Irx/rz47vP9o+Hx+gvO8/CBdIlm+37z9m8pcte5HvPz971K0P5O8/bOsTJs/s7z919qBnrg3wP8cmnuZWAvA/MqCaKdUR8D/6vS6eCsjvPxiLLztPC/A/1pqs3qPQ7z9cuz1FAs/vP+Z6UT95uO8/0bNLtAsG8D8lacz7HTPwP+kw300xNfA/XfeYSQhW8D+mE9HXyWrwP818uXvLf/A/EKUmhNx98D+l+YSMmZDwP9WVkR1CtfA/fiIMtPqS8D8=",
          "dtype": "f8"
         },
         "yaxis": "y3"
        },
        {
         "hoverinfo": "skip",
         "legendgroup": "7",
         "line": {
          "color": "rgba(0, 0, 0, 0)",
          "width": 0
         },
         "opacity": 0,
         "showlegend": false,
         "type": "scatter",
         "uid": "b21a0f6d-9fa7-45ef-a4ff-f59c4621ae73",
         "x": [
          "2025-01-21T00:00:00.000000000",
          "2025-01-22T00:00:00.000000000",
          "2025-01-23T00:00:00.000000000",
          "2025-01-24T00:00:00.000000000",
          "2025-01-27T00:00:00.000000000",
          "2025-01-28T00:00:00.000000000",
          "2025-01-29T00:00:00.000000000",
          "2025-01-30T00:00:00.000000000",
          "2025-01-31T00:00:00.000000000",
          "2025-02-03T00:00:00.000000000",
          "2025-02-04T00:00:00.000000000",
          "2025-02-05T00:00:00.000000000",
          "2025-02-06T00:00:00.000000000",
          "2025-02-07T00:00:00.000000000",
          "2025-02-10T00:00:00.000000000",
          "2025-02-11T00:00:00.000000000",
          "2025-02-12T00:00:00.000000000",
          "2025-02-13T00:00:00.000000000",
          "2025-02-14T00:00:00.000000000",
          "2025-02-18T00:00:00.000000000",
          "2025-02-19T00:00:00.000000000",
          "2025-02-20T00:00:00.000000000",
          "2025-02-21T00:00:00.000000000",
          "2025-02-24T00:00:00.000000000",
          "2025-02-25T00:00:00.000000000",
          "2025-02-26T00:00:00.000000000",
          "2025-02-27T00:00:00.000000000",
          "2025-02-28T00:00:00.000000000",
          "2025-03-03T00:00:00.000000000",
          "2025-03-04T00:00:00.000000000",
          "2025-03-05T00:00:00.000000000",
          "2025-03-06T00:00:00.000000000",
          "2025-03-07T00:00:00.000000000",
          "2025-03-10T00:00:00.000000000",
          "2025-03-11T00:00:00.000000000",
          "2025-03-12T00:00:00.000000000",
          "2025-03-13T00:00:00.000000000",
          "2025-03-14T00:00:00.000000000",
          "2025-03-17T00:00:00.000000000",
          "2025-03-18T00:00:00.000000000",
          "2025-03-19T00:00:00.000000000",
          "2025-03-20T00:00:00.000000000",
          "2025-03-21T00:00:00.000000000",
          "2025-03-24T00:00:00.000000000",
          "2025-03-25T00:00:00.000000000",
          "2025-03-26T00:00:00.000000000",
          "2025-03-27T00:00:00.000000000",
          "2025-03-28T00:00:00.000000000",
          "2025-03-31T00:00:00.000000000",
          "2025-04-01T00:00:00.000000000",
          "2025-04-02T00:00:00.000000000",
          "2025-04-03T00:00:00.000000000",
          "2025-04-04T00:00:00.000000000",
          "2025-04-07T00:00:00.000000000",
          "2025-04-08T00:00:00.000000000",
          "2025-04-09T00:00:00.000000000",
          "2025-04-10T00:00:00.000000000",
          "2025-04-11T00:00:00.000000000",
          "2025-04-14T00:00:00.000000000",
          "2025-04-15T00:00:00.000000000",
          "2025-04-16T00:00:00.000000000",
          "2025-04-17T00:00:00.000000000",
          "2025-04-21T00:00:00.000000000",
          "2025-04-22T00:00:00.000000000",
          "2025-04-23T00:00:00.000000000",
          "2025-04-24T00:00:00.000000000",
          "2025-04-25T00:00:00.000000000",
          "2025-04-28T00:00:00.000000000",
          "2025-04-29T00:00:00.000000000",
          "2025-04-30T00:00:00.000000000",
          "2025-05-01T00:00:00.000000000",
          "2025-05-02T00:00:00.000000000",
          "2025-05-05T00:00:00.000000000",
          "2025-05-06T00:00:00.000000000",
          "2025-05-07T00:00:00.000000000",
          "2025-05-08T00:00:00.000000000",
          "2025-05-09T00:00:00.000000000",
          "2025-05-12T00:00:00.000000000",
          "2025-05-13T00:00:00.000000000",
          "2025-05-14T00:00:00.000000000",
          "2025-05-15T00:00:00.000000000",
          "2025-05-16T00:00:00.000000000",
          "2025-05-19T00:00:00.000000000",
          "2025-05-20T00:00:00.000000000",
          "2025-05-21T00:00:00.000000000",
          "2025-05-22T00:00:00.000000000",
          "2025-05-23T00:00:00.000000000",
          "2025-05-27T00:00:00.000000000",
          "2025-05-28T00:00:00.000000000",
          "2025-05-29T00:00:00.000000000",
          "2025-05-30T00:00:00.000000000",
          "2025-06-02T00:00:00.000000000",
          "2025-06-03T00:00:00.000000000",
          "2025-06-04T00:00:00.000000000",
          "2025-06-05T00:00:00.000000000",
          "2025-06-06T00:00:00.000000000",
          "2025-06-09T00:00:00.000000000",
          "2025-06-10T00:00:00.000000000",
          "2025-06-11T00:00:00.000000000",
          "2025-06-12T00:00:00.000000000",
          "2025-06-13T00:00:00.000000000",
          "2025-06-16T00:00:00.000000000",
          "2025-06-17T00:00:00.000000000",
          "2025-06-18T00:00:00.000000000",
          "2025-06-20T00:00:00.000000000",
          "2025-06-23T00:00:00.000000000",
          "2025-06-24T00:00:00.000000000",
          "2025-06-25T00:00:00.000000000",
          "2025-06-26T00:00:00.000000000",
          "2025-06-27T00:00:00.000000000",
          "2025-06-30T00:00:00.000000000",
          "2025-07-01T00:00:00.000000000",
          "2025-07-02T00:00:00.000000000",
          "2025-07-03T00:00:00.000000000",
          "2025-07-07T00:00:00.000000000"
         ],
         "xaxis": "x3",
         "y": {
          "bdata": "AQEBAQEBAQEBAQEBAQEBAQEBAQEBAQEBAQEBAQEBAQEBAQEBAQEBAQEBAQEBAQEBAQEBAQEBAQEBAQEBAQEBAQEBAQEBAQEBAQEBAQEBAQEBAQEBAQEBAQEBAQEBAQEBAQEBAQEBAQEBAQEBAQEBAQEBAQ==",
          "dtype": "i1"
         },
         "yaxis": "y3"
        },
        {
         "connectgaps": false,
         "fill": "tonexty",
         "fillcolor": "rgba(0, 128, 0, 0.3)",
         "hoverinfo": "skip",
         "legendgroup": "7",
         "line": {
          "color": "rgba(0, 0, 0, 0)",
          "width": 0
         },
         "opacity": 0,
         "showlegend": false,
         "type": "scatter",
         "uid": "ca44f4ca-c9a7-41f0-997e-cb9af0e41d96",
         "x": [
          "2025-01-21T00:00:00.000000000",
          "2025-01-22T00:00:00.000000000",
          "2025-01-23T00:00:00.000000000",
          "2025-01-24T00:00:00.000000000",
          "2025-01-27T00:00:00.000000000",
          "2025-01-28T00:00:00.000000000",
          "2025-01-29T00:00:00.000000000",
          "2025-01-30T00:00:00.000000000",
          "2025-01-31T00:00:00.000000000",
          "2025-02-03T00:00:00.000000000",
          "2025-02-04T00:00:00.000000000",
          "2025-02-05T00:00:00.000000000",
          "2025-02-06T00:00:00.000000000",
          "2025-02-07T00:00:00.000000000",
          "2025-02-10T00:00:00.000000000",
          "2025-02-11T00:00:00.000000000",
          "2025-02-12T00:00:00.000000000",
          "2025-02-13T00:00:00.000000000",
          "2025-02-14T00:00:00.000000000",
          "2025-02-18T00:00:00.000000000",
          "2025-02-19T00:00:00.000000000",
          "2025-02-20T00:00:00.000000000",
          "2025-02-21T00:00:00.000000000",
          "2025-02-24T00:00:00.000000000",
          "2025-02-25T00:00:00.000000000",
          "2025-02-26T00:00:00.000000000",
          "2025-02-27T00:00:00.000000000",
          "2025-02-28T00:00:00.000000000",
          "2025-03-03T00:00:00.000000000",
          "2025-03-04T00:00:00.000000000",
          "2025-03-05T00:00:00.000000000",
          "2025-03-06T00:00:00.000000000",
          "2025-03-07T00:00:00.000000000",
          "2025-03-10T00:00:00.000000000",
          "2025-03-11T00:00:00.000000000",
          "2025-03-12T00:00:00.000000000",
          "2025-03-13T00:00:00.000000000",
          "2025-03-14T00:00:00.000000000",
          "2025-03-17T00:00:00.000000000",
          "2025-03-18T00:00:00.000000000",
          "2025-03-19T00:00:00.000000000",
          "2025-03-20T00:00:00.000000000",
          "2025-03-21T00:00:00.000000000",
          "2025-03-24T00:00:00.000000000",
          "2025-03-25T00:00:00.000000000",
          "2025-03-26T00:00:00.000000000",
          "2025-03-27T00:00:00.000000000",
          "2025-03-28T00:00:00.000000000",
          "2025-03-31T00:00:00.000000000",
          "2025-04-01T00:00:00.000000000",
          "2025-04-02T00:00:00.000000000",
          "2025-04-03T00:00:00.000000000",
          "2025-04-04T00:00:00.000000000",
          "2025-04-07T00:00:00.000000000",
          "2025-04-08T00:00:00.000000000",
          "2025-04-09T00:00:00.000000000",
          "2025-04-10T00:00:00.000000000",
          "2025-04-11T00:00:00.000000000",
          "2025-04-14T00:00:00.000000000",
          "2025-04-15T00:00:00.000000000",
          "2025-04-16T00:00:00.000000000",
          "2025-04-17T00:00:00.000000000",
          "2025-04-21T00:00:00.000000000",
          "2025-04-22T00:00:00.000000000",
          "2025-04-23T00:00:00.000000000",
          "2025-04-24T00:00:00.000000000",
          "2025-04-25T00:00:00.000000000",
          "2025-04-28T00:00:00.000000000",
          "2025-04-29T00:00:00.000000000",
          "2025-04-30T00:00:00.000000000",
          "2025-05-01T00:00:00.000000000",
          "2025-05-02T00:00:00.000000000",
          "2025-05-05T00:00:00.000000000",
          "2025-05-06T00:00:00.000000000",
          "2025-05-07T00:00:00.000000000",
          "2025-05-08T00:00:00.000000000",
          "2025-05-09T00:00:00.000000000",
          "2025-05-12T00:00:00.000000000",
          "2025-05-13T00:00:00.000000000",
          "2025-05-14T00:00:00.000000000",
          "2025-05-15T00:00:00.000000000",
          "2025-05-16T00:00:00.000000000",
          "2025-05-19T00:00:00.000000000",
          "2025-05-20T00:00:00.000000000",
          "2025-05-21T00:00:00.000000000",
          "2025-05-22T00:00:00.000000000",
          "2025-05-23T00:00:00.000000000",
          "2025-05-27T00:00:00.000000000",
          "2025-05-28T00:00:00.000000000",
          "2025-05-29T00:00:00.000000000",
          "2025-05-30T00:00:00.000000000",
          "2025-06-02T00:00:00.000000000",
          "2025-06-03T00:00:00.000000000",
          "2025-06-04T00:00:00.000000000",
          "2025-06-05T00:00:00.000000000",
          "2025-06-06T00:00:00.000000000",
          "2025-06-09T00:00:00.000000000",
          "2025-06-10T00:00:00.000000000",
          "2025-06-11T00:00:00.000000000",
          "2025-06-12T00:00:00.000000000",
          "2025-06-13T00:00:00.000000000",
          "2025-06-16T00:00:00.000000000",
          "2025-06-17T00:00:00.000000000",
          "2025-06-18T00:00:00.000000000",
          "2025-06-20T00:00:00.000000000",
          "2025-06-23T00:00:00.000000000",
          "2025-06-24T00:00:00.000000000",
          "2025-06-25T00:00:00.000000000",
          "2025-06-26T00:00:00.000000000",
          "2025-06-27T00:00:00.000000000",
          "2025-06-30T00:00:00.000000000",
          "2025-07-01T00:00:00.000000000",
          "2025-07-02T00:00:00.000000000",
          "2025-07-03T00:00:00.000000000",
          "2025-07-07T00:00:00.000000000"
         ],
         "xaxis": "x3",
         "y": {
          "bdata": "AAAAAAAA8D8AAAAAAADwPyXWJkCVEvA/CLyJWxQC8D8IvIlbFALwPwi8iVsUAvA/AAAAAAAA8D9KT4LvPw/wP0pPgu8/D/A/iavPgSQL8D/pexKNRyLwP+l7Eo1HIvA/6XsSjUci8D/pexKNRyLwP+l7Eo1HIvA/6XsSjUci8D/pexKNRyLwP+l7Eo1HIvA/dJl8QSce8D+vVLQ7EyrwP/LSHUYVNPA/ZXIseqQi8D8AAAAAAADwPwAAAAAAAPA/AAAAAAAA8D8AAAAAAADwPwAAAAAAAPA/AAAAAAAA8D8AAAAAAADwPwAAAAAAAPA/AAAAAAAA8D8AAAAAAADwPwAAAAAAAPA/AAAAAAAA8D8AAAAAAADwPwAAAAAAAPA/AAAAAAAA8D8AAAAAAADwPwAAAAAAAPA/AAAAAAAA8D/vr7bW1RXwP/xvR5k/CPA//G9HmT8I8D/8b0eZPwjwP/xvR5k/CPA//G9HmT8I8D/8b0eZPwjwP/xvR5k/CPA//G9HmT8I8D/8b0eZPwjwP/xvR5k/CPA//G9HmT8I8D/8b0eZPwjwPxcK9vUlBPA/AAAAAAAA8D/kGj8JFTrxP+QaPwkVOvE/5Bo/CRU68T/kGj8JFTrxP3zo1C6tNfE/s82NOtfU8D/SUTX/f9bwP9HlfZwx0vA/TN48yts+8T87YfMwyIXxP+iVCv4K5PE/AOV9wMUF8j83MBZJmQjyPwyR5sOVJPI/yN4QPN0m8j/H0wrvxUfyP1jEWDAfhvI/WMRYMB+G8j9YxFgwH4byP1jEWDAfhvI/WMRYMB+G8j9YxFgwH4byP1jEWDAfhvI/WMRYMB+G8j9YxFgwH4byP1jEWDAfhvI/1p8ea2KB8j8Ehuu3f4HyPwSG67d/gfI/BIbrt3+B8j8Ehuu3f4HyPwSG67d/gfI/0dBbIcR88j+bDSSeDl3yP5sNJJ4OXfI/mw0kng5d8j+bDSSeDl3yP5sNJJ4OXfI/9YFxWVxY8j9+Oa1IaELyP3bixicscvI/55WIfDt38j96gQnHKJLyP8Mn3T1MgPI/wyfdPUyA8j/DJ909TIDyP38d8PWQe/I/I6gVRkJT8j9++kK9UVLyP4gn2WupQPI/iCfZa6lA8j+IJ9lrqUDyP4gn2WupQPI/iCfZa6lA8j/rvzRq/jvyPxB9PlOiTvI/EH0+U6JO8j8QfT5Tok7yPxB9PlOiTvI/0ErUvvNJ8j8=",
          "dtype": "f8"
         },
         "yaxis": "y3"
        },
        {
         "hoverinfo": "skip",
         "legendgroup": "7",
         "line": {
          "color": "rgba(0, 0, 0, 0)",
          "width": 0
         },
         "opacity": 0,
         "showlegend": false,
         "type": "scatter",
         "uid": "a211edd2-841f-401a-ae0f-2e619618b113",
         "x": [
          "2025-01-21T00:00:00.000000000",
          "2025-01-22T00:00:00.000000000",
          "2025-01-23T00:00:00.000000000",
          "2025-01-24T00:00:00.000000000",
          "2025-01-27T00:00:00.000000000",
          "2025-01-28T00:00:00.000000000",
          "2025-01-29T00:00:00.000000000",
          "2025-01-30T00:00:00.000000000",
          "2025-01-31T00:00:00.000000000",
          "2025-02-03T00:00:00.000000000",
          "2025-02-04T00:00:00.000000000",
          "2025-02-05T00:00:00.000000000",
          "2025-02-06T00:00:00.000000000",
          "2025-02-07T00:00:00.000000000",
          "2025-02-10T00:00:00.000000000",
          "2025-02-11T00:00:00.000000000",
          "2025-02-12T00:00:00.000000000",
          "2025-02-13T00:00:00.000000000",
          "2025-02-14T00:00:00.000000000",
          "2025-02-18T00:00:00.000000000",
          "2025-02-19T00:00:00.000000000",
          "2025-02-20T00:00:00.000000000",
          "2025-02-21T00:00:00.000000000",
          "2025-02-24T00:00:00.000000000",
          "2025-02-25T00:00:00.000000000",
          "2025-02-26T00:00:00.000000000",
          "2025-02-27T00:00:00.000000000",
          "2025-02-28T00:00:00.000000000",
          "2025-03-03T00:00:00.000000000",
          "2025-03-04T00:00:00.000000000",
          "2025-03-05T00:00:00.000000000",
          "2025-03-06T00:00:00.000000000",
          "2025-03-07T00:00:00.000000000",
          "2025-03-10T00:00:00.000000000",
          "2025-03-11T00:00:00.000000000",
          "2025-03-12T00:00:00.000000000",
          "2025-03-13T00:00:00.000000000",
          "2025-03-14T00:00:00.000000000",
          "2025-03-17T00:00:00.000000000",
          "2025-03-18T00:00:00.000000000",
          "2025-03-19T00:00:00.000000000",
          "2025-03-20T00:00:00.000000000",
          "2025-03-21T00:00:00.000000000",
          "2025-03-24T00:00:00.000000000",
          "2025-03-25T00:00:00.000000000",
          "2025-03-26T00:00:00.000000000",
          "2025-03-27T00:00:00.000000000",
          "2025-03-28T00:00:00.000000000",
          "2025-03-31T00:00:00.000000000",
          "2025-04-01T00:00:00.000000000",
          "2025-04-02T00:00:00.000000000",
          "2025-04-03T00:00:00.000000000",
          "2025-04-04T00:00:00.000000000",
          "2025-04-07T00:00:00.000000000",
          "2025-04-08T00:00:00.000000000",
          "2025-04-09T00:00:00.000000000",
          "2025-04-10T00:00:00.000000000",
          "2025-04-11T00:00:00.000000000",
          "2025-04-14T00:00:00.000000000",
          "2025-04-15T00:00:00.000000000",
          "2025-04-16T00:00:00.000000000",
          "2025-04-17T00:00:00.000000000",
          "2025-04-21T00:00:00.000000000",
          "2025-04-22T00:00:00.000000000",
          "2025-04-23T00:00:00.000000000",
          "2025-04-24T00:00:00.000000000",
          "2025-04-25T00:00:00.000000000",
          "2025-04-28T00:00:00.000000000",
          "2025-04-29T00:00:00.000000000",
          "2025-04-30T00:00:00.000000000",
          "2025-05-01T00:00:00.000000000",
          "2025-05-02T00:00:00.000000000",
          "2025-05-05T00:00:00.000000000",
          "2025-05-06T00:00:00.000000000",
          "2025-05-07T00:00:00.000000000",
          "2025-05-08T00:00:00.000000000",
          "2025-05-09T00:00:00.000000000",
          "2025-05-12T00:00:00.000000000",
          "2025-05-13T00:00:00.000000000",
          "2025-05-14T00:00:00.000000000",
          "2025-05-15T00:00:00.000000000",
          "2025-05-16T00:00:00.000000000",
          "2025-05-19T00:00:00.000000000",
          "2025-05-20T00:00:00.000000000",
          "2025-05-21T00:00:00.000000000",
          "2025-05-22T00:00:00.000000000",
          "2025-05-23T00:00:00.000000000",
          "2025-05-27T00:00:00.000000000",
          "2025-05-28T00:00:00.000000000",
          "2025-05-29T00:00:00.000000000",
          "2025-05-30T00:00:00.000000000",
          "2025-06-02T00:00:00.000000000",
          "2025-06-03T00:00:00.000000000",
          "2025-06-04T00:00:00.000000000",
          "2025-06-05T00:00:00.000000000",
          "2025-06-06T00:00:00.000000000",
          "2025-06-09T00:00:00.000000000",
          "2025-06-10T00:00:00.000000000",
          "2025-06-11T00:00:00.000000000",
          "2025-06-12T00:00:00.000000000",
          "2025-06-13T00:00:00.000000000",
          "2025-06-16T00:00:00.000000000",
          "2025-06-17T00:00:00.000000000",
          "2025-06-18T00:00:00.000000000",
          "2025-06-20T00:00:00.000000000",
          "2025-06-23T00:00:00.000000000",
          "2025-06-24T00:00:00.000000000",
          "2025-06-25T00:00:00.000000000",
          "2025-06-26T00:00:00.000000000",
          "2025-06-27T00:00:00.000000000",
          "2025-06-30T00:00:00.000000000",
          "2025-07-01T00:00:00.000000000",
          "2025-07-02T00:00:00.000000000",
          "2025-07-03T00:00:00.000000000",
          "2025-07-07T00:00:00.000000000"
         ],
         "xaxis": "x3",
         "y": {
          "bdata": "AQEBAQEBAQEBAQEBAQEBAQEBAQEBAQEBAQEBAQEBAQEBAQEBAQEBAQEBAQEBAQEBAQEBAQEBAQEBAQEBAQEBAQEBAQEBAQEBAQEBAQEBAQEBAQEBAQEBAQEBAQEBAQEBAQEBAQEBAQEBAQEBAQEBAQEBAQ==",
          "dtype": "i1"
         },
         "yaxis": "y3"
        },
        {
         "connectgaps": false,
         "fill": "tonexty",
         "fillcolor": "rgba(255, 0, 0, 0.3)",
         "hoverinfo": "skip",
         "legendgroup": "7",
         "line": {
          "color": "rgba(0, 0, 0, 0)",
          "width": 0
         },
         "opacity": 0,
         "showlegend": false,
         "type": "scatter",
         "uid": "55557e0e-bb5a-4efb-bdd7-247959f217d9",
         "x": [
          "2025-01-21T00:00:00.000000000",
          "2025-01-22T00:00:00.000000000",
          "2025-01-23T00:00:00.000000000",
          "2025-01-24T00:00:00.000000000",
          "2025-01-27T00:00:00.000000000",
          "2025-01-28T00:00:00.000000000",
          "2025-01-29T00:00:00.000000000",
          "2025-01-30T00:00:00.000000000",
          "2025-01-31T00:00:00.000000000",
          "2025-02-03T00:00:00.000000000",
          "2025-02-04T00:00:00.000000000",
          "2025-02-05T00:00:00.000000000",
          "2025-02-06T00:00:00.000000000",
          "2025-02-07T00:00:00.000000000",
          "2025-02-10T00:00:00.000000000",
          "2025-02-11T00:00:00.000000000",
          "2025-02-12T00:00:00.000000000",
          "2025-02-13T00:00:00.000000000",
          "2025-02-14T00:00:00.000000000",
          "2025-02-18T00:00:00.000000000",
          "2025-02-19T00:00:00.000000000",
          "2025-02-20T00:00:00.000000000",
          "2025-02-21T00:00:00.000000000",
          "2025-02-24T00:00:00.000000000",
          "2025-02-25T00:00:00.000000000",
          "2025-02-26T00:00:00.000000000",
          "2025-02-27T00:00:00.000000000",
          "2025-02-28T00:00:00.000000000",
          "2025-03-03T00:00:00.000000000",
          "2025-03-04T00:00:00.000000000",
          "2025-03-05T00:00:00.000000000",
          "2025-03-06T00:00:00.000000000",
          "2025-03-07T00:00:00.000000000",
          "2025-03-10T00:00:00.000000000",
          "2025-03-11T00:00:00.000000000",
          "2025-03-12T00:00:00.000000000",
          "2025-03-13T00:00:00.000000000",
          "2025-03-14T00:00:00.000000000",
          "2025-03-17T00:00:00.000000000",
          "2025-03-18T00:00:00.000000000",
          "2025-03-19T00:00:00.000000000",
          "2025-03-20T00:00:00.000000000",
          "2025-03-21T00:00:00.000000000",
          "2025-03-24T00:00:00.000000000",
          "2025-03-25T00:00:00.000000000",
          "2025-03-26T00:00:00.000000000",
          "2025-03-27T00:00:00.000000000",
          "2025-03-28T00:00:00.000000000",
          "2025-03-31T00:00:00.000000000",
          "2025-04-01T00:00:00.000000000",
          "2025-04-02T00:00:00.000000000",
          "2025-04-03T00:00:00.000000000",
          "2025-04-04T00:00:00.000000000",
          "2025-04-07T00:00:00.000000000",
          "2025-04-08T00:00:00.000000000",
          "2025-04-09T00:00:00.000000000",
          "2025-04-10T00:00:00.000000000",
          "2025-04-11T00:00:00.000000000",
          "2025-04-14T00:00:00.000000000",
          "2025-04-15T00:00:00.000000000",
          "2025-04-16T00:00:00.000000000",
          "2025-04-17T00:00:00.000000000",
          "2025-04-21T00:00:00.000000000",
          "2025-04-22T00:00:00.000000000",
          "2025-04-23T00:00:00.000000000",
          "2025-04-24T00:00:00.000000000",
          "2025-04-25T00:00:00.000000000",
          "2025-04-28T00:00:00.000000000",
          "2025-04-29T00:00:00.000000000",
          "2025-04-30T00:00:00.000000000",
          "2025-05-01T00:00:00.000000000",
          "2025-05-02T00:00:00.000000000",
          "2025-05-05T00:00:00.000000000",
          "2025-05-06T00:00:00.000000000",
          "2025-05-07T00:00:00.000000000",
          "2025-05-08T00:00:00.000000000",
          "2025-05-09T00:00:00.000000000",
          "2025-05-12T00:00:00.000000000",
          "2025-05-13T00:00:00.000000000",
          "2025-05-14T00:00:00.000000000",
          "2025-05-15T00:00:00.000000000",
          "2025-05-16T00:00:00.000000000",
          "2025-05-19T00:00:00.000000000",
          "2025-05-20T00:00:00.000000000",
          "2025-05-21T00:00:00.000000000",
          "2025-05-22T00:00:00.000000000",
          "2025-05-23T00:00:00.000000000",
          "2025-05-27T00:00:00.000000000",
          "2025-05-28T00:00:00.000000000",
          "2025-05-29T00:00:00.000000000",
          "2025-05-30T00:00:00.000000000",
          "2025-06-02T00:00:00.000000000",
          "2025-06-03T00:00:00.000000000",
          "2025-06-04T00:00:00.000000000",
          "2025-06-05T00:00:00.000000000",
          "2025-06-06T00:00:00.000000000",
          "2025-06-09T00:00:00.000000000",
          "2025-06-10T00:00:00.000000000",
          "2025-06-11T00:00:00.000000000",
          "2025-06-12T00:00:00.000000000",
          "2025-06-13T00:00:00.000000000",
          "2025-06-16T00:00:00.000000000",
          "2025-06-17T00:00:00.000000000",
          "2025-06-18T00:00:00.000000000",
          "2025-06-20T00:00:00.000000000",
          "2025-06-23T00:00:00.000000000",
          "2025-06-24T00:00:00.000000000",
          "2025-06-25T00:00:00.000000000",
          "2025-06-26T00:00:00.000000000",
          "2025-06-27T00:00:00.000000000",
          "2025-06-30T00:00:00.000000000",
          "2025-07-01T00:00:00.000000000",
          "2025-07-02T00:00:00.000000000",
          "2025-07-03T00:00:00.000000000",
          "2025-07-07T00:00:00.000000000"
         ],
         "xaxis": "x3",
         "y": {
          "bdata": "AAAAAAAA8D8KLmzx0PfvPwAAAAAAAPA/AAAAAAAA8D8AAAAAAADwPwAAAAAAAPA/UC80mPj77z8AAAAAAADwPwAAAAAAAPA/AAAAAAAA8D8AAAAAAADwPwAAAAAAAPA/AAAAAAAA8D8AAAAAAADwPwAAAAAAAPA/AAAAAAAA8D8AAAAAAADwPwAAAAAAAPA/AAAAAAAA8D8AAAAAAADwPwAAAAAAAPA/AAAAAAAA8D8S3WoIm7DvPxLdagibsO8/Et1qCJuw7z8S3WoIm7DvPxLdagibsO8/Et1qCJuw7z8S3WoIm7DvPxLdagibsO8/Et1qCJuw7z8S3WoIm7DvPxLdagibsO8/Et1qCJuw7z8S3WoIm7DvPxLdagibsO8/Et1qCJuw7z/0ZtVHgKjvPyzV4Zoy3u8/R11cMQzW7z8AAAAAAADwPwAAAAAAAPA/AAAAAAAA8D8AAAAAAADwPwAAAAAAAPA/AAAAAAAA8D8AAAAAAADwPwAAAAAAAPA/AAAAAAAA8D8AAAAAAADwPwAAAAAAAPA/AAAAAAAA8D8AAAAAAADwPwAAAAAAAPA/u/b71qaP7z8AAAAAAADwPwAAAAAAAPA/AAAAAAAA8D8AAAAAAADwPwAAAAAAAPA/AAAAAAAA8D8AAAAAAADwPwAAAAAAAPA/AAAAAAAA8D8AAAAAAADwPwAAAAAAAPA/AAAAAAAA8D8AAAAAAADwPwAAAAAAAPA/AAAAAAAA8D8AAAAAAADwPwAAAAAAAPA/AAAAAAAA8D8AAAAAAADwPwAAAAAAAPA/AAAAAAAA8D8AAAAAAADwPwAAAAAAAPA/AAAAAAAA8D8AAAAAAADwPwAAAAAAAPA/AAAAAAAA8D8AAAAAAADwPwAAAAAAAPA/AAAAAAAA8D8AAAAAAADwPwAAAAAAAPA/AAAAAAAA8D8AAAAAAADwPwAAAAAAAPA/AAAAAAAA8D8AAAAAAADwPwAAAAAAAPA/AAAAAAAA8D8AAAAAAADwPwAAAAAAAPA/AAAAAAAA8D8AAAAAAADwPwAAAAAAAPA/AAAAAAAA8D8AAAAAAADwPwAAAAAAAPA/AAAAAAAA8D8AAAAAAADwPwAAAAAAAPA/AAAAAAAA8D8AAAAAAADwPwAAAAAAAPA/AAAAAAAA8D8AAAAAAADwPwAAAAAAAPA/AAAAAAAA8D8AAAAAAADwPwAAAAAAAPA/AAAAAAAA8D8=",
          "dtype": "f8"
         },
         "yaxis": "y3"
        },
        {
         "legendgroup": "8",
         "line": {
          "color": "#9467bd"
         },
         "name": "Value",
         "showlegend": true,
         "type": "scatter",
         "uid": "c3490158-bc9d-447f-9a6c-a944e585ff54",
         "x": [
          "2025-01-21T00:00:00.000000000",
          "2025-01-22T00:00:00.000000000",
          "2025-01-23T00:00:00.000000000",
          "2025-01-24T00:00:00.000000000",
          "2025-01-27T00:00:00.000000000",
          "2025-01-28T00:00:00.000000000",
          "2025-01-29T00:00:00.000000000",
          "2025-01-30T00:00:00.000000000",
          "2025-01-31T00:00:00.000000000",
          "2025-02-03T00:00:00.000000000",
          "2025-02-04T00:00:00.000000000",
          "2025-02-05T00:00:00.000000000",
          "2025-02-06T00:00:00.000000000",
          "2025-02-07T00:00:00.000000000",
          "2025-02-10T00:00:00.000000000",
          "2025-02-11T00:00:00.000000000",
          "2025-02-12T00:00:00.000000000",
          "2025-02-13T00:00:00.000000000",
          "2025-02-14T00:00:00.000000000",
          "2025-02-18T00:00:00.000000000",
          "2025-02-19T00:00:00.000000000",
          "2025-02-20T00:00:00.000000000",
          "2025-02-21T00:00:00.000000000",
          "2025-02-24T00:00:00.000000000",
          "2025-02-25T00:00:00.000000000",
          "2025-02-26T00:00:00.000000000",
          "2025-02-27T00:00:00.000000000",
          "2025-02-28T00:00:00.000000000",
          "2025-03-03T00:00:00.000000000",
          "2025-03-04T00:00:00.000000000",
          "2025-03-05T00:00:00.000000000",
          "2025-03-06T00:00:00.000000000",
          "2025-03-07T00:00:00.000000000",
          "2025-03-10T00:00:00.000000000",
          "2025-03-11T00:00:00.000000000",
          "2025-03-12T00:00:00.000000000",
          "2025-03-13T00:00:00.000000000",
          "2025-03-14T00:00:00.000000000",
          "2025-03-17T00:00:00.000000000",
          "2025-03-18T00:00:00.000000000",
          "2025-03-19T00:00:00.000000000",
          "2025-03-20T00:00:00.000000000",
          "2025-03-21T00:00:00.000000000",
          "2025-03-24T00:00:00.000000000",
          "2025-03-25T00:00:00.000000000",
          "2025-03-26T00:00:00.000000000",
          "2025-03-27T00:00:00.000000000",
          "2025-03-28T00:00:00.000000000",
          "2025-03-31T00:00:00.000000000",
          "2025-04-01T00:00:00.000000000",
          "2025-04-02T00:00:00.000000000",
          "2025-04-03T00:00:00.000000000",
          "2025-04-04T00:00:00.000000000",
          "2025-04-07T00:00:00.000000000",
          "2025-04-08T00:00:00.000000000",
          "2025-04-09T00:00:00.000000000",
          "2025-04-10T00:00:00.000000000",
          "2025-04-11T00:00:00.000000000",
          "2025-04-14T00:00:00.000000000",
          "2025-04-15T00:00:00.000000000",
          "2025-04-16T00:00:00.000000000",
          "2025-04-17T00:00:00.000000000",
          "2025-04-21T00:00:00.000000000",
          "2025-04-22T00:00:00.000000000",
          "2025-04-23T00:00:00.000000000",
          "2025-04-24T00:00:00.000000000",
          "2025-04-25T00:00:00.000000000",
          "2025-04-28T00:00:00.000000000",
          "2025-04-29T00:00:00.000000000",
          "2025-04-30T00:00:00.000000000",
          "2025-05-01T00:00:00.000000000",
          "2025-05-02T00:00:00.000000000",
          "2025-05-05T00:00:00.000000000",
          "2025-05-06T00:00:00.000000000",
          "2025-05-07T00:00:00.000000000",
          "2025-05-08T00:00:00.000000000",
          "2025-05-09T00:00:00.000000000",
          "2025-05-12T00:00:00.000000000",
          "2025-05-13T00:00:00.000000000",
          "2025-05-14T00:00:00.000000000",
          "2025-05-15T00:00:00.000000000",
          "2025-05-16T00:00:00.000000000",
          "2025-05-19T00:00:00.000000000",
          "2025-05-20T00:00:00.000000000",
          "2025-05-21T00:00:00.000000000",
          "2025-05-22T00:00:00.000000000",
          "2025-05-23T00:00:00.000000000",
          "2025-05-27T00:00:00.000000000",
          "2025-05-28T00:00:00.000000000",
          "2025-05-29T00:00:00.000000000",
          "2025-05-30T00:00:00.000000000",
          "2025-06-02T00:00:00.000000000",
          "2025-06-03T00:00:00.000000000",
          "2025-06-04T00:00:00.000000000",
          "2025-06-05T00:00:00.000000000",
          "2025-06-06T00:00:00.000000000",
          "2025-06-09T00:00:00.000000000",
          "2025-06-10T00:00:00.000000000",
          "2025-06-11T00:00:00.000000000",
          "2025-06-12T00:00:00.000000000",
          "2025-06-13T00:00:00.000000000",
          "2025-06-16T00:00:00.000000000",
          "2025-06-17T00:00:00.000000000",
          "2025-06-18T00:00:00.000000000",
          "2025-06-20T00:00:00.000000000",
          "2025-06-23T00:00:00.000000000",
          "2025-06-24T00:00:00.000000000",
          "2025-06-25T00:00:00.000000000",
          "2025-06-26T00:00:00.000000000",
          "2025-06-27T00:00:00.000000000",
          "2025-06-30T00:00:00.000000000",
          "2025-07-01T00:00:00.000000000",
          "2025-07-02T00:00:00.000000000",
          "2025-07-03T00:00:00.000000000",
          "2025-07-07T00:00:00.000000000"
         ],
         "xaxis": "x3",
         "y": {
          "bdata": "AAAAAAAA8D8KLmzx0PfvPyXWJkCVEvA/CLyJWxQC8D8IvIlbFALwPwi8iVsUAvA/UC80mPj77z9KT4LvPw/wP0pPgu8/D/A/iavPgSQL8D/pexKNRyLwP+l7Eo1HIvA/6XsSjUci8D/pexKNRyLwP+l7Eo1HIvA/6XsSjUci8D/pexKNRyLwP+l7Eo1HIvA/dJl8QSce8D+vVLQ7EyrwP/LSHUYVNPA/ZXIseqQi8D8S3WoIm7DvPxLdagibsO8/Et1qCJuw7z8S3WoIm7DvPxLdagibsO8/Et1qCJuw7z8S3WoIm7DvPxLdagibsO8/Et1qCJuw7z8S3WoIm7DvPxLdagibsO8/Et1qCJuw7z8S3WoIm7DvPxLdagibsO8/Et1qCJuw7z/0ZtVHgKjvPyzV4Zoy3u8/R11cMQzW7z/vr7bW1RXwP/xvR5k/CPA//G9HmT8I8D/8b0eZPwjwP/xvR5k/CPA//G9HmT8I8D/8b0eZPwjwP/xvR5k/CPA//G9HmT8I8D/8b0eZPwjwP/xvR5k/CPA//G9HmT8I8D/8b0eZPwjwPxcK9vUlBPA/u/b71qaP7z/kGj8JFTrxP+QaPwkVOvE/5Bo/CRU68T/kGj8JFTrxP3zo1C6tNfE/s82NOtfU8D/SUTX/f9bwP9HlfZwx0vA/TN48yts+8T87YfMwyIXxP+iVCv4K5PE/AOV9wMUF8j83MBZJmQjyPwyR5sOVJPI/yN4QPN0m8j/H0wrvxUfyP1jEWDAfhvI/WMRYMB+G8j9YxFgwH4byP1jEWDAfhvI/WMRYMB+G8j9YxFgwH4byP1jEWDAfhvI/WMRYMB+G8j9YxFgwH4byP1jEWDAfhvI/1p8ea2KB8j8Ehuu3f4HyPwSG67d/gfI/BIbrt3+B8j8Ehuu3f4HyPwSG67d/gfI/0dBbIcR88j+bDSSeDl3yP5sNJJ4OXfI/mw0kng5d8j+bDSSeDl3yP5sNJJ4OXfI/9YFxWVxY8j9+Oa1IaELyP3bixicscvI/55WIfDt38j96gQnHKJLyP8Mn3T1MgPI/wyfdPUyA8j/DJ909TIDyP38d8PWQe/I/I6gVRkJT8j9++kK9UVLyP4gn2WupQPI/iCfZa6lA8j+IJ9lrqUDyP4gn2WupQPI/iCfZa6lA8j/rvzRq/jvyPxB9PlOiTvI/EH0+U6JO8j8QfT5Tok7yPxB9PlOiTvI/0ErUvvNJ8j8=",
          "dtype": "f8"
         },
         "yaxis": "y3"
        },
        {
         "hoverinfo": "skip",
         "legendgroup": "7",
         "line": {
          "color": "rgba(0, 0, 0, 0)",
          "width": 0
         },
         "opacity": 0,
         "showlegend": false,
         "type": "scatter",
         "uid": "78fc9b17-de01-4a41-a6a8-e3548dec5b54",
         "x": [
          "2025-01-21T00:00:00.000000000",
          "2025-01-22T00:00:00.000000000",
          "2025-01-23T00:00:00.000000000",
          "2025-01-24T00:00:00.000000000",
          "2025-01-27T00:00:00.000000000",
          "2025-01-28T00:00:00.000000000",
          "2025-01-29T00:00:00.000000000",
          "2025-01-30T00:00:00.000000000",
          "2025-01-31T00:00:00.000000000",
          "2025-02-03T00:00:00.000000000",
          "2025-02-04T00:00:00.000000000",
          "2025-02-05T00:00:00.000000000",
          "2025-02-06T00:00:00.000000000",
          "2025-02-07T00:00:00.000000000",
          "2025-02-10T00:00:00.000000000",
          "2025-02-11T00:00:00.000000000",
          "2025-02-12T00:00:00.000000000",
          "2025-02-13T00:00:00.000000000",
          "2025-02-14T00:00:00.000000000",
          "2025-02-18T00:00:00.000000000",
          "2025-02-19T00:00:00.000000000",
          "2025-02-20T00:00:00.000000000",
          "2025-02-21T00:00:00.000000000",
          "2025-02-24T00:00:00.000000000",
          "2025-02-25T00:00:00.000000000",
          "2025-02-26T00:00:00.000000000",
          "2025-02-27T00:00:00.000000000",
          "2025-02-28T00:00:00.000000000",
          "2025-03-03T00:00:00.000000000",
          "2025-03-04T00:00:00.000000000",
          "2025-03-05T00:00:00.000000000",
          "2025-03-06T00:00:00.000000000",
          "2025-03-07T00:00:00.000000000",
          "2025-03-10T00:00:00.000000000",
          "2025-03-11T00:00:00.000000000",
          "2025-03-12T00:00:00.000000000",
          "2025-03-13T00:00:00.000000000",
          "2025-03-14T00:00:00.000000000",
          "2025-03-17T00:00:00.000000000",
          "2025-03-18T00:00:00.000000000",
          "2025-03-19T00:00:00.000000000",
          "2025-03-20T00:00:00.000000000",
          "2025-03-21T00:00:00.000000000",
          "2025-03-24T00:00:00.000000000",
          "2025-03-25T00:00:00.000000000",
          "2025-03-26T00:00:00.000000000",
          "2025-03-27T00:00:00.000000000",
          "2025-03-28T00:00:00.000000000",
          "2025-03-31T00:00:00.000000000",
          "2025-04-01T00:00:00.000000000",
          "2025-04-02T00:00:00.000000000",
          "2025-04-03T00:00:00.000000000",
          "2025-04-04T00:00:00.000000000",
          "2025-04-07T00:00:00.000000000",
          "2025-04-08T00:00:00.000000000",
          "2025-04-09T00:00:00.000000000",
          "2025-04-10T00:00:00.000000000",
          "2025-04-11T00:00:00.000000000",
          "2025-04-14T00:00:00.000000000",
          "2025-04-15T00:00:00.000000000",
          "2025-04-16T00:00:00.000000000",
          "2025-04-17T00:00:00.000000000",
          "2025-04-21T00:00:00.000000000",
          "2025-04-22T00:00:00.000000000",
          "2025-04-23T00:00:00.000000000",
          "2025-04-24T00:00:00.000000000",
          "2025-04-25T00:00:00.000000000",
          "2025-04-28T00:00:00.000000000",
          "2025-04-29T00:00:00.000000000",
          "2025-04-30T00:00:00.000000000",
          "2025-05-01T00:00:00.000000000",
          "2025-05-02T00:00:00.000000000",
          "2025-05-05T00:00:00.000000000",
          "2025-05-06T00:00:00.000000000",
          "2025-05-07T00:00:00.000000000",
          "2025-05-08T00:00:00.000000000",
          "2025-05-09T00:00:00.000000000",
          "2025-05-12T00:00:00.000000000",
          "2025-05-13T00:00:00.000000000",
          "2025-05-14T00:00:00.000000000",
          "2025-05-15T00:00:00.000000000",
          "2025-05-16T00:00:00.000000000",
          "2025-05-19T00:00:00.000000000",
          "2025-05-20T00:00:00.000000000",
          "2025-05-21T00:00:00.000000000",
          "2025-05-22T00:00:00.000000000",
          "2025-05-23T00:00:00.000000000",
          "2025-05-27T00:00:00.000000000",
          "2025-05-28T00:00:00.000000000",
          "2025-05-29T00:00:00.000000000",
          "2025-05-30T00:00:00.000000000",
          "2025-06-02T00:00:00.000000000",
          "2025-06-03T00:00:00.000000000",
          "2025-06-04T00:00:00.000000000",
          "2025-06-05T00:00:00.000000000",
          "2025-06-06T00:00:00.000000000",
          "2025-06-09T00:00:00.000000000",
          "2025-06-10T00:00:00.000000000",
          "2025-06-11T00:00:00.000000000",
          "2025-06-12T00:00:00.000000000",
          "2025-06-13T00:00:00.000000000",
          "2025-06-16T00:00:00.000000000",
          "2025-06-17T00:00:00.000000000",
          "2025-06-18T00:00:00.000000000",
          "2025-06-20T00:00:00.000000000",
          "2025-06-23T00:00:00.000000000",
          "2025-06-24T00:00:00.000000000",
          "2025-06-25T00:00:00.000000000",
          "2025-06-26T00:00:00.000000000",
          "2025-06-27T00:00:00.000000000",
          "2025-06-30T00:00:00.000000000",
          "2025-07-01T00:00:00.000000000",
          "2025-07-02T00:00:00.000000000",
          "2025-07-03T00:00:00.000000000",
          "2025-07-07T00:00:00.000000000"
         ],
         "xaxis": "x3",
         "y": {
          "bdata": "AQEBAQEBAQEBAQEBAQEBAQEBAQEBAQEBAQEBAQEBAQEBAQEBAQEBAQEBAQEBAQEBAQEBAQEBAQEBAQEBAQEBAQEBAQEBAQEBAQEBAQEBAQEBAQEBAQEBAQEBAQEBAQEBAQEBAQEBAQEBAQEBAQEBAQEBAQ==",
          "dtype": "i1"
         },
         "yaxis": "y3"
        }
       ],
       "layout": {
        "annotations": [
         {
          "font": {
           "size": 16
          },
          "showarrow": false,
          "text": "Orders",
          "x": 0.5,
          "xanchor": "center",
          "xref": "paper",
          "y": 1,
          "yanchor": "bottom",
          "yref": "paper"
         },
         {
          "font": {
           "size": 16
          },
          "showarrow": false,
          "text": "Trade PnL",
          "x": 0.5,
          "xanchor": "center",
          "xref": "paper",
          "y": 0.6527777777777777,
          "yanchor": "bottom",
          "yref": "paper"
         },
         {
          "font": {
           "size": 16
          },
          "showarrow": false,
          "text": "Cumulative Returns",
          "x": 0.5,
          "xanchor": "center",
          "xref": "paper",
          "y": 0.3055555555555555,
          "yanchor": "bottom",
          "yref": "paper"
         }
        ],
        "height": 960,
        "legend": {
         "orientation": "h",
         "traceorder": "normal",
         "x": 1,
         "xanchor": "right",
         "y": 1.0416666666666667,
         "yanchor": "bottom"
        },
        "margin": {
         "b": 30,
         "l": 30,
         "r": 30,
         "t": 30
        },
        "shapes": [
         {
          "line": {
           "color": "gray",
           "dash": "dash"
          },
          "type": "line",
          "x0": 0,
          "x1": 1,
          "xref": "paper",
          "y0": 0,
          "y1": 0,
          "yref": "y2"
         },
         {
          "line": {
           "color": "gray",
           "dash": "dash"
          },
          "type": "line",
          "x0": 0,
          "x1": 1,
          "xref": "paper",
          "y0": 1,
          "y1": 1,
          "yref": "y3"
         }
        ],
        "showlegend": true,
        "template": {
         "data": {
          "bar": [
           {
            "error_x": {
             "color": "#2a3f5f"
            },
            "error_y": {
             "color": "#2a3f5f"
            },
            "marker": {
             "line": {
              "color": "#E5ECF6",
              "width": 0.5
             }
            },
            "type": "bar"
           }
          ],
          "barpolar": [
           {
            "marker": {
             "line": {
              "color": "#E5ECF6",
              "width": 0.5
             }
            },
            "type": "barpolar"
           }
          ],
          "carpet": [
           {
            "aaxis": {
             "endlinecolor": "#2a3f5f",
             "gridcolor": "white",
             "linecolor": "white",
             "minorgridcolor": "white",
             "startlinecolor": "#2a3f5f"
            },
            "baxis": {
             "endlinecolor": "#2a3f5f",
             "gridcolor": "white",
             "linecolor": "white",
             "minorgridcolor": "white",
             "startlinecolor": "#2a3f5f"
            },
            "type": "carpet"
           }
          ],
          "choropleth": [
           {
            "colorbar": {
             "outlinewidth": 0,
             "ticks": ""
            },
            "type": "choropleth"
           }
          ],
          "contour": [
           {
            "colorbar": {
             "outlinewidth": 0,
             "ticks": ""
            },
            "colorscale": [
             [
              0,
              "#0d0887"
             ],
             [
              0.1111111111111111,
              "#46039f"
             ],
             [
              0.2222222222222222,
              "#7201a8"
             ],
             [
              0.3333333333333333,
              "#9c179e"
             ],
             [
              0.4444444444444444,
              "#bd3786"
             ],
             [
              0.5555555555555556,
              "#d8576b"
             ],
             [
              0.6666666666666666,
              "#ed7953"
             ],
             [
              0.7777777777777778,
              "#fb9f3a"
             ],
             [
              0.8888888888888888,
              "#fdca26"
             ],
             [
              1,
              "#f0f921"
             ]
            ],
            "type": "contour"
           }
          ],
          "contourcarpet": [
           {
            "colorbar": {
             "outlinewidth": 0,
             "ticks": ""
            },
            "type": "contourcarpet"
           }
          ],
          "heatmap": [
           {
            "colorbar": {
             "outlinewidth": 0,
             "ticks": ""
            },
            "colorscale": [
             [
              0,
              "#0d0887"
             ],
             [
              0.1111111111111111,
              "#46039f"
             ],
             [
              0.2222222222222222,
              "#7201a8"
             ],
             [
              0.3333333333333333,
              "#9c179e"
             ],
             [
              0.4444444444444444,
              "#bd3786"
             ],
             [
              0.5555555555555556,
              "#d8576b"
             ],
             [
              0.6666666666666666,
              "#ed7953"
             ],
             [
              0.7777777777777778,
              "#fb9f3a"
             ],
             [
              0.8888888888888888,
              "#fdca26"
             ],
             [
              1,
              "#f0f921"
             ]
            ],
            "type": "heatmap"
           }
          ],
          "histogram": [
           {
            "marker": {
             "colorbar": {
              "outlinewidth": 0,
              "ticks": ""
             }
            },
            "type": "histogram"
           }
          ],
          "histogram2d": [
           {
            "colorbar": {
             "outlinewidth": 0,
             "ticks": ""
            },
            "colorscale": [
             [
              0,
              "#0d0887"
             ],
             [
              0.1111111111111111,
              "#46039f"
             ],
             [
              0.2222222222222222,
              "#7201a8"
             ],
             [
              0.3333333333333333,
              "#9c179e"
             ],
             [
              0.4444444444444444,
              "#bd3786"
             ],
             [
              0.5555555555555556,
              "#d8576b"
             ],
             [
              0.6666666666666666,
              "#ed7953"
             ],
             [
              0.7777777777777778,
              "#fb9f3a"
             ],
             [
              0.8888888888888888,
              "#fdca26"
             ],
             [
              1,
              "#f0f921"
             ]
            ],
            "type": "histogram2d"
           }
          ],
          "histogram2dcontour": [
           {
            "colorbar": {
             "outlinewidth": 0,
             "ticks": ""
            },
            "colorscale": [
             [
              0,
              "#0d0887"
             ],
             [
              0.1111111111111111,
              "#46039f"
             ],
             [
              0.2222222222222222,
              "#7201a8"
             ],
             [
              0.3333333333333333,
              "#9c179e"
             ],
             [
              0.4444444444444444,
              "#bd3786"
             ],
             [
              0.5555555555555556,
              "#d8576b"
             ],
             [
              0.6666666666666666,
              "#ed7953"
             ],
             [
              0.7777777777777778,
              "#fb9f3a"
             ],
             [
              0.8888888888888888,
              "#fdca26"
             ],
             [
              1,
              "#f0f921"
             ]
            ],
            "type": "histogram2dcontour"
           }
          ],
          "mesh3d": [
           {
            "colorbar": {
             "outlinewidth": 0,
             "ticks": ""
            },
            "type": "mesh3d"
           }
          ],
          "parcoords": [
           {
            "line": {
             "colorbar": {
              "outlinewidth": 0,
              "ticks": ""
             }
            },
            "type": "parcoords"
           }
          ],
          "pie": [
           {
            "automargin": true,
            "type": "pie"
           }
          ],
          "scatter": [
           {
            "marker": {
             "colorbar": {
              "outlinewidth": 0,
              "ticks": ""
             }
            },
            "type": "scatter"
           }
          ],
          "scatter3d": [
           {
            "line": {
             "colorbar": {
              "outlinewidth": 0,
              "ticks": ""
             }
            },
            "marker": {
             "colorbar": {
              "outlinewidth": 0,
              "ticks": ""
             }
            },
            "type": "scatter3d"
           }
          ],
          "scattercarpet": [
           {
            "marker": {
             "colorbar": {
              "outlinewidth": 0,
              "ticks": ""
             }
            },
            "type": "scattercarpet"
           }
          ],
          "scattergeo": [
           {
            "marker": {
             "colorbar": {
              "outlinewidth": 0,
              "ticks": ""
             }
            },
            "type": "scattergeo"
           }
          ],
          "scattergl": [
           {
            "marker": {
             "colorbar": {
              "outlinewidth": 0,
              "ticks": ""
             }
            },
            "type": "scattergl"
           }
          ],
          "scattermapbox": [
           {
            "marker": {
             "colorbar": {
              "outlinewidth": 0,
              "ticks": ""
             }
            },
            "type": "scattermapbox"
           }
          ],
          "scatterpolar": [
           {
            "marker": {
             "colorbar": {
              "outlinewidth": 0,
              "ticks": ""
             }
            },
            "type": "scatterpolar"
           }
          ],
          "scatterpolargl": [
           {
            "marker": {
             "colorbar": {
              "outlinewidth": 0,
              "ticks": ""
             }
            },
            "type": "scatterpolargl"
           }
          ],
          "scatterternary": [
           {
            "marker": {
             "colorbar": {
              "outlinewidth": 0,
              "ticks": ""
             }
            },
            "type": "scatterternary"
           }
          ],
          "surface": [
           {
            "colorbar": {
             "outlinewidth": 0,
             "ticks": ""
            },
            "colorscale": [
             [
              0,
              "#0d0887"
             ],
             [
              0.1111111111111111,
              "#46039f"
             ],
             [
              0.2222222222222222,
              "#7201a8"
             ],
             [
              0.3333333333333333,
              "#9c179e"
             ],
             [
              0.4444444444444444,
              "#bd3786"
             ],
             [
              0.5555555555555556,
              "#d8576b"
             ],
             [
              0.6666666666666666,
              "#ed7953"
             ],
             [
              0.7777777777777778,
              "#fb9f3a"
             ],
             [
              0.8888888888888888,
              "#fdca26"
             ],
             [
              1,
              "#f0f921"
             ]
            ],
            "type": "surface"
           }
          ],
          "table": [
           {
            "cells": {
             "fill": {
              "color": "#EBF0F8"
             },
             "line": {
              "color": "white"
             }
            },
            "header": {
             "fill": {
              "color": "#C8D4E3"
             },
             "line": {
              "color": "white"
             }
            },
            "type": "table"
           }
          ]
         },
         "layout": {
          "annotationdefaults": {
           "arrowcolor": "#2a3f5f",
           "arrowhead": 0,
           "arrowwidth": 1
          },
          "coloraxis": {
           "colorbar": {
            "outlinewidth": 0,
            "ticks": ""
           }
          },
          "colorscale": {
           "diverging": [
            [
             0,
             "#8e0152"
            ],
            [
             0.1,
             "#c51b7d"
            ],
            [
             0.2,
             "#de77ae"
            ],
            [
             0.3,
             "#f1b6da"
            ],
            [
             0.4,
             "#fde0ef"
            ],
            [
             0.5,
             "#f7f7f7"
            ],
            [
             0.6,
             "#e6f5d0"
            ],
            [
             0.7,
             "#b8e186"
            ],
            [
             0.8,
             "#7fbc41"
            ],
            [
             0.9,
             "#4d9221"
            ],
            [
             1,
             "#276419"
            ]
           ],
           "sequential": [
            [
             0,
             "#0d0887"
            ],
            [
             0.1111111111111111,
             "#46039f"
            ],
            [
             0.2222222222222222,
             "#7201a8"
            ],
            [
             0.3333333333333333,
             "#9c179e"
            ],
            [
             0.4444444444444444,
             "#bd3786"
            ],
            [
             0.5555555555555556,
             "#d8576b"
            ],
            [
             0.6666666666666666,
             "#ed7953"
            ],
            [
             0.7777777777777778,
             "#fb9f3a"
            ],
            [
             0.8888888888888888,
             "#fdca26"
            ],
            [
             1,
             "#f0f921"
            ]
           ],
           "sequentialminus": [
            [
             0,
             "#0d0887"
            ],
            [
             0.1111111111111111,
             "#46039f"
            ],
            [
             0.2222222222222222,
             "#7201a8"
            ],
            [
             0.3333333333333333,
             "#9c179e"
            ],
            [
             0.4444444444444444,
             "#bd3786"
            ],
            [
             0.5555555555555556,
             "#d8576b"
            ],
            [
             0.6666666666666666,
             "#ed7953"
            ],
            [
             0.7777777777777778,
             "#fb9f3a"
            ],
            [
             0.8888888888888888,
             "#fdca26"
            ],
            [
             1,
             "#f0f921"
            ]
           ]
          },
          "colorway": [
           "#1f77b4",
           "#ff7f0e",
           "#2ca02c",
           "#dc3912",
           "#9467bd",
           "#8c564b",
           "#e377c2",
           "#7f7f7f",
           "#bcbd22",
           "#17becf"
          ],
          "font": {
           "color": "#2a3f5f"
          },
          "geo": {
           "bgcolor": "white",
           "lakecolor": "white",
           "landcolor": "#E5ECF6",
           "showlakes": true,
           "showland": true,
           "subunitcolor": "white"
          },
          "hoverlabel": {
           "align": "left"
          },
          "hovermode": "closest",
          "mapbox": {
           "style": "light"
          },
          "paper_bgcolor": "white",
          "plot_bgcolor": "#E5ECF6",
          "polar": {
           "angularaxis": {
            "gridcolor": "white",
            "linecolor": "white",
            "ticks": ""
           },
           "bgcolor": "#E5ECF6",
           "radialaxis": {
            "gridcolor": "white",
            "linecolor": "white",
            "ticks": ""
           }
          },
          "scene": {
           "xaxis": {
            "backgroundcolor": "#E5ECF6",
            "gridcolor": "white",
            "gridwidth": 2,
            "linecolor": "white",
            "showbackground": true,
            "ticks": "",
            "zerolinecolor": "white"
           },
           "yaxis": {
            "backgroundcolor": "#E5ECF6",
            "gridcolor": "white",
            "gridwidth": 2,
            "linecolor": "white",
            "showbackground": true,
            "ticks": "",
            "zerolinecolor": "white"
           },
           "zaxis": {
            "backgroundcolor": "#E5ECF6",
            "gridcolor": "white",
            "gridwidth": 2,
            "linecolor": "white",
            "showbackground": true,
            "ticks": "",
            "zerolinecolor": "white"
           }
          },
          "shapedefaults": {
           "line": {
            "color": "#2a3f5f"
           }
          },
          "ternary": {
           "aaxis": {
            "gridcolor": "white",
            "linecolor": "white",
            "ticks": ""
           },
           "baxis": {
            "gridcolor": "white",
            "linecolor": "white",
            "ticks": ""
           },
           "bgcolor": "#E5ECF6",
           "caxis": {
            "gridcolor": "white",
            "linecolor": "white",
            "ticks": ""
           }
          },
          "title": {
           "x": 0.05
          },
          "xaxis": {
           "automargin": true,
           "gridcolor": "white",
           "linecolor": "white",
           "ticks": "",
           "title": {
            "standoff": 15
           },
           "zerolinecolor": "white",
           "zerolinewidth": 2
          },
          "yaxis": {
           "automargin": true,
           "gridcolor": "white",
           "linecolor": "white",
           "ticks": "",
           "title": {
            "standoff": 15
           },
           "zerolinecolor": "white",
           "zerolinewidth": 2
          }
         }
        },
        "width": 750,
        "xaxis": {
         "anchor": "y",
         "domain": [
          0,
          1
         ],
         "matches": "x3",
         "showticklabels": false
        },
        "xaxis2": {
         "anchor": "y2",
         "domain": [
          0,
          1
         ],
         "matches": "x3",
         "showticklabels": false
        },
        "xaxis3": {
         "anchor": "y3",
         "domain": [
          0,
          1
         ],
         "title": {
          "text": "Index"
         }
        },
        "yaxis": {
         "anchor": "x",
         "domain": [
          0.6944444444444444,
          1
         ],
         "title": {
          "text": "Price"
         }
        },
        "yaxis2": {
         "anchor": "x2",
         "domain": [
          0.3472222222222222,
          0.6527777777777777
         ],
         "tickformat": ".2%",
         "title": {
          "text": "Trade PnL"
         }
        },
        "yaxis3": {
         "anchor": "x3",
         "domain": [
          0,
          0.3055555555555555
         ],
         "title": {
          "text": "Cumulative returns"
         }
        }
       }
      },
      "image/png": "[encoded data removed]"
     },
     "metadata": {},
     "output_type": "display_data"
    }
   ],
   "source": [
    "test_data_df['date'] = pd.to_datetime(test_data_df['date'])\n",
    "test_data_df = test_data_df.set_index('date').sort_index()\n",
    "\n",
    "start_date = test_data_df.index.min().strftime('%Y-%m-%d')\n",
    "end_date = (test_data_df.index.max() + dt.timedelta(days=2)).strftime('%Y-%m-%d') \n",
    "\n",
    "# just use the close price for now\n",
    "voo_price = yf.download('VOO', start=start_date, end=end_date)['Close']\n",
    "\n",
    "signal_map = {\n",
    "    'BULLISH': 1,  # Enter\n",
    "    'BEARISH': -1, # Exit\n",
    "    'NEUTRAL': 0   # Hold\n",
    "}\n",
    "test_data_df['signal'] = test_data_df['predicted_label'].map(signal_map)\n",
    "\n",
    "# forward-fill signals to handle non-trading days\n",
    "signals = test_data_df['signal'].reindex(voo_price.index, method='ffill').fillna(0)\n",
    "\n",
    "entries = signals == 1\n",
    "exits = signals == -1\n",
    "\n",
    "portfolio = vbt.Portfolio.from_signals(\n",
    "    close=voo_price, \n",
    "    entries=entries, \n",
    "    exits=exits,\n",
    "    freq='D',\n",
    "    init_cash=1000000,\n",
    "    fees=0.001 # 0.1% fee per trade\n",
    ")\n",
    "\n",
    "print(\"Backtest Results for H1 2025\")\n",
    "print(\"=\"*30)\n",
    "print(portfolio.stats())\n",
    "\n",
    "print(\"\\n\\nPerformance vs. Buy and Hold (VOO)\")\n",
    "print(\"=\"*30)\n",
    "portfolio[0].plot().show()"
   ]
  },
  {
   "cell_type": "code",
   "execution_count": 91,
   "metadata": {},
   "outputs": [
    {
     "name": "stdout",
     "output_type": "stream",
     "text": [
      "Prediction distribution:\n",
      "predicted_label\n",
      "NEUTRAL    510\n",
      "BEARISH    492\n",
      "BULLISH    327\n",
      "Name: count, dtype: int64\n",
      "\n",
      "Breakdown by percentage:\n",
      "predicted_label\n",
      "NEUTRAL    38.374718\n",
      "BEARISH    37.020316\n",
      "BULLISH    24.604966\n",
      "Name: proportion, dtype: float64\n"
     ]
    }
   ],
   "source": [
    "# Let's see what the model was actually predicting\n",
    "print(\"Prediction distribution:\")\n",
    "print(test_data_df['predicted_label'].value_counts())\n",
    "\n",
    "print(\"\\nBreakdown by percentage:\")\n",
    "print(test_data_df['predicted_label'].value_counts(normalize=True) * 100)"
   ]
  },
  {
   "cell_type": "code",
   "execution_count": 101,
   "metadata": {},
   "outputs": [
    {
     "name": "stdout",
     "output_type": "stream",
     "text": [
      "Found 9 winning trades. Here are the posts that triggered them:\n",
      "\n",
      "📈 Trade Profit: $507.70\n",
      "\n",
      "Trade Entry Date: 2025-01-22\n",
      "Signal Date:      2025-01-21\n",
      "Signal:           BULLISH 0.3629707992076874\n",
      "Trigger Text:     \"I just called the mother of Ross William Ulbright to let her know that in honor of her and the Libertarian Movement, which supported me so strongly, it was my pleasure to have just signed a full and unconditional pardon of her son, Ross. The scum that worked to convict him were some of the same lunatics who were involved in the modern day weaponization of government against me. He was given two life sentences, plus 40 years. Ridiculous!\"\n",
      "\n",
      "Exit Date:        2025-01-24\n",
      "Signal Date:      2025-01-23\n",
      "Signal:           BEARISH 0.37550342082977295\n",
      "Trigger Text:     \"A special thank you to great New Jersey Congressman Jeff Van Drew for his fight against a large scale Windmill DISASTER off the coast of Southern New Jersey. It needed MASSIVE GOVERNMENT SUBSIDY that was impossible to justify. Hopefully the project is dead and gone, as almost all unsightly and environmentally unsound Windmill project should be. Congratulations to the great people of New Jersey. You have FINALLY won your war on stupidity!!!\"\n",
      "\n",
      "\n",
      "📈 Trade Profit: $3215.39\n",
      "\n",
      "Trade Entry Date: 2025-01-29\n",
      "Signal Date:      2025-01-28\n",
      "Signal:           BULLISH 0.3648717701435089\n",
      "Trigger Text:     \"Panama is, with great speed, attempting to take down the 64% of signs which are written in Chinese. They are all over the Zone, because China controls the Panama Canal. PANAMA IS NOT GOING TO GET AWAY WITH THIS!\"\n",
      "\n",
      "Exit Date:        2025-01-30\n",
      "Signal Date:      2025-01-29\n",
      "Signal:           BEARISH 0.344033420085907\n",
      "Trigger Text:     \"Because Jay Powell and the Fed failed to stop the problem they created with Inflation, I will do it by unleashing American Energy production, slashing Regulation, rebalancing International Trade, and reigniting American Manufacturing, but I will do much more than stopping Inflation, I will make our Country financially, and otherwise, powerful again! The Fed has done a terrible job on Bank Regulation. Treasury is going to lead the effort to cut unnecessary Regulation, and will unleash lending for all American people and businesses. If the Fed had spent less time on DEI, gender ideology, “green” energy, and fake climate change, Inflation would never have been a problem. Instead, we suffered from the worst Inflation in the History of our Country!\"\n",
      "\n",
      "\n",
      "📈 Trade Profit: $4645.93\n",
      "\n",
      "Trade Entry Date: 2025-02-03\n",
      "Signal Date:      2025-02-02\n",
      "Signal:           BULLISH 0.40462297201156616\n",
      "Trigger Text:     \"RT @realDonaldTrumpAnybody that’s against Tariffs, including the Fake News Wall Street Journal, and Hedge Funds, is only against them because these people or entities are controlled by China, or other foreign or domestic companies. Anybody that loves and believes in the United States of America is in favor of Tariffs. They should have never ended, in favor of the Income Tax System, in 1913. The response to Tariffs has been FANTASTIC!\"\n",
      "\n",
      "Exit Date:        2025-02-04\n",
      "Signal Date:      2025-02-03\n",
      "Signal:           BEARISH 0.43801018595695496\n",
      "Trigger Text:     \"It is my pleasure to nominate Joe Kent as the Director of the National Counter Terrorism Center. As a Soldier, Green Beret, and CIA Officer, Joe has hunted down terrorists and criminals his entire adult life. Above all, Joe knows the terrible cost of terrorism, losing his wonderful wife, Shannon, a Great American Hero, who was killed in the fight against ISIS. Joe continues to honor her legacy by staying in the fight. Joe will help us keep America safe by eradicating all terrorism, from the jihadists around the World, to the cartels in our backyard.Congratulations Joe!\"\n",
      "\n",
      "\n",
      "📈 Trade Profit: $5565.44\n",
      "\n",
      "Trade Entry Date: 2025-03-14\n",
      "Signal Date:      2025-03-13\n",
      "Signal:           BULLISH 0.3680918216705322\n",
      "Trigger Text:     \"If New York, Connecticut, and New England had their Pipelines, savings from Heating alone would go down $2,300 per family — When you add Air Conditioning, and other things, you would have a $5,000 savings per family. All we need is a simple approval from New York. Every other State in New England, plus Connecticut, wants this, in order to help the Environment, and save BIG money. We only need the final approval from New York State, whose people all want it. Otherwise, we’ll have to use other authorities. New York State has held up this project for many years, but we won’t let that happen any longer. We will use federal approval!\"\n",
      "\n",
      "Exit Date:        2025-03-17\n",
      "Signal Date:      2025-03-16\n",
      "Signal:           BEARISH 0.4292723834514618\n",
      "Trigger Text:     \"We are actively monitoring the severe tornadoes and storms that have impacted many States across the South and Midwest — 36 innocent lives have been lost, and many more devastated. The National Guard have been deployed to Arkansas, and my Administration is ready to assist State and Local Officials, as they help their communities to try and recover from the damage. Please join Melania and me in praying for everyone impacted by these terrible storms!\"\n",
      "\n",
      "\n",
      "📈 Trade Profit: $6140.04\n",
      "\n",
      "Trade Entry Date: 2025-03-18\n",
      "Signal Date:      2025-03-17\n",
      "Signal:           BULLISH 0.41921940445899963\n",
      "Trigger Text:     \"After years of being held captive by Environmental Extremists, Lunatics, Radicals, and Thugs, allowing other Countries, in particular China, to gain tremendous Economic advantage over us by opening up hundreds of all Coal Fire Power Plants, I am authorizing my Administration to immediately begin producing Energy with BEAUTIFUL, CLEAN COAL.\"\n",
      "\n",
      "Exit Date:        2025-03-20\n",
      "Signal Date:      2025-03-19\n",
      "Signal:           BEARISH 0.3683939278125763\n",
      "Trigger Text:     \"America First Patriot Randy Fine is running to represent the Great People of Florida’s 6th Congressional District! A highly successful, Harvard educated businessman, and greatly respected State Legislator, Randy has been a tremendous Voice for MAGA. In Congress, Randy will be an incredible fighter, who will work tirelessly with me to Stop Inflation, Grow our Economy, Secure the Border, Champion our Military/Vets, Restore American Energy DOMINANCE, Protect our always under siege Second Amendment, and Ensure PEACE THROUGH STRENGTH. Randy Fine has my Complete and Total Endorsement for Congress. Florida, Early Voting is March 22-29, and Election Day is April 1st – GET OUT AND VOTE EARLY FOR RANDY! https://swampthevoteusa.com/fl-06/\"\n",
      "\n",
      "\n",
      "📈 Trade Profit: $74666.44\n",
      "\n",
      "Trade Entry Date: 2025-04-07\n",
      "Signal Date:      2025-04-06\n",
      "Signal:           BULLISH 0.3960016071796417\n",
      "Trigger Text:     \"We have massive Financial Deficits with China, the European Union, and many others. The only way this problem can be cured is with TARIFFS, which are now bringing Tens of Billions of Dollars into the U.S.A. They are already in effect, and a beautiful thing to behold. The Surplus with these Countries has grown during the “Presidency” of Sleepy Joe Biden. We are going to reverse it, and reverse it QUICKLY. Some day people will realize that Tariffs, for the United States of America, are a very beautiful thing!\"\n",
      "\n",
      "Exit Date:        2025-04-09\n",
      "Signal Date:      2025-04-08\n",
      "Signal:           BEARISH 0.3476499617099762\n",
      "Trigger Text:     \"I had a very good meeting today with the Speaker of the House and some of our more Conservative Members, all great people. I let them know that, I AM FOR MAJOR SPENDING CUTS! WE ARE GOING TO DO REDUCTIONS, hopefully in excess of $1 Trillion Dollars, all of which will go into “The One, Big, Beautiful Bill.” I, along with House Members and Senators, will be pushing very hard to get these large scale Spending Cuts done, but we must get the Bill approved NOW. MAKE AMERICA GREAT AGAIN!\"\n",
      "\n",
      "\n",
      "📈 Trade Profit: $105376.43\n",
      "\n",
      "Trade Entry Date: 2025-04-21\n",
      "Signal Date:      2025-04-20\n",
      "Signal:           BULLISH 0.40445131063461304\n",
      "Trigger Text:     \"NON-TARIFF CHEATING:1. Currency Manipulation2. VATs which act as tariffs and export subsidies3. Dumping Below Cost4. Export Subsidies and Other Govt. Subsidies5. Protective Agricultural Standards (e.g., no genetically engineered corn in EU)6. Protective Technical Standards (Japan’s bowling ball test)7. Counterfeiting, Piracy, and IP Theft (Over $1 trillion a year)8. Transshipping to EVADE Tariffs!!!\"\n",
      "\n",
      "Exit Date:        2025-05-02\n",
      "Signal Date:      2025-05-01\n",
      "Signal:           BEARISH 0.3792749345302582\n",
      "Trigger Text:     \"Just landing in Alabama, where I look forward to giving the Commencement Address to the Great University of Alabama. They put all of their nine Graduations into one, so I better do well. These are tremendous people. I won the State by 45 points. No pressure!\"\n",
      "\n",
      "\n",
      "📈 Trade Profit: $8603.69\n",
      "\n",
      "Trade Entry Date: 2025-06-04\n",
      "Signal Date:      2025-06-03\n",
      "Signal:           BULLISH 0.3607088625431061\n",
      "Trigger Text:     \"Rand votes NO on everything, but never has any practical or constructive ideas. His ideas are actually crazy (losers!). The people of Kentucky can’t stand him. This is a BIG GROWTH BILL!\"\n",
      "\n",
      "Exit Date:        2025-06-11\n",
      "Signal Date:      2025-06-10\n",
      "Signal:           BEARISH 0.3611369729042053\n",
      "Trigger Text:     \"Standing before you today, I am more confident than ever that in the days ahead and every generation to come, the U.S. Army will heap glory upon glory. You will summon inexhaustible courage. You will protect every inch of U.S. soil, and you will defend America to the ends of the earth!\"\n",
      "\n",
      "\n",
      "📈 Trade Profit: $3411.20\n",
      "\n",
      "Trade Entry Date: 2025-06-27\n",
      "Signal Date:      2025-06-26\n",
      "Signal:           BULLISH 0.3649611175060272\n",
      "Trigger Text:     \"The One Big Beautiful Bill will Secure our Borders, turbocharge our economy, and bring back the American Dream. This is the ultimate codification of our agenda to very simply Make America Great Again!\"\n",
      "\n",
      "Exit Date:        2025-06-30\n",
      "Signal Date:      2025-06-29\n",
      "Signal:           BEARISH 0.3567999005317688\n",
      "Trigger Text:     \"For all cost cutting Republicans, of which I am one, REMEMBER, you still have to get reelected. Don’t go too crazy! We will make it all up, times 10, with GROWTH, more than ever before\"\n",
      "\n",
      "\n"
     ]
    }
   ],
   "source": [
    "closed_trades = portfolio[0].trades.records\n",
    "\n",
    "winning_trades = closed_trades[closed_trades['pnl'] > 0]\n",
    "\n",
    "print(f\"Found {len(winning_trades)} winning trades. Here are the posts that triggered them:\\n\")\n",
    "\n",
    "for i, trade in winning_trades.iterrows():\n",
    "    entry_idx_pos = int(trade['entry_idx'])\n",
    "    entry_timestamp = voo_price.index[entry_idx_pos]\n",
    "\n",
    "    exit_idx_pos = int(trade['exit_idx'])\n",
    "    exit_timestamp = voo_price.index[exit_idx_pos]\n",
    "    \n",
    "    entry_triggers = test_data_df[test_data_df.index <= entry_timestamp]\n",
    "    exit_triggers = test_data_df[test_data_df.index <= exit_timestamp]\n",
    "\n",
    "    if not entry_triggers.empty:\n",
    "        trigger_tweet = entry_triggers.iloc[-1]\n",
    "        \n",
    "        print(f\"📈 Trade Profit: ${trade['pnl']:.2f}\\n\")\n",
    "        print(f\"Trade Entry Date: {entry_timestamp.strftime('%Y-%m-%d')}\")\n",
    "        print(f\"Signal Date:      {trigger_tweet.name.strftime('%Y-%m-%d')}\")\n",
    "        print(f\"Signal:           {trigger_tweet.predicted_label} {trigger_tweet.prediction_score}\")\n",
    "        print(f\"Trigger Text:     \\\"{trigger_tweet['text']}\\\"\\n\")\n",
    "\n",
    "    if not exit_triggers.empty: \n",
    "        trigger_tweet = exit_triggers.iloc[-1]\n",
    "    \n",
    "        print(f\"Exit Date:        {exit_timestamp.strftime('%Y-%m-%d')}\")\n",
    "        print(f\"Signal Date:      {trigger_tweet.name.strftime('%Y-%m-%d')}\")\n",
    "        print(f\"Signal:           {trigger_tweet.predicted_label} {trigger_tweet.prediction_score}\")\n",
    "        print(f\"Trigger Text:     \\\"{trigger_tweet['text']}\\\"\\n\\n\")\n"
   ]
  }
 ],
 "metadata": {
  "colab": {
   "provenance": []
  },
  "kernelspec": {
   "display_name": "Python 3 (ipykernel)",
   "language": "python",
   "name": "python3"
  },
  "language_info": {
   "codemirror_mode": {
    "name": "ipython",
    "version": 3
   },
   "file_extension": ".py",
   "mimetype": "text/x-python",
   "name": "python",
   "nbconvert_exporter": "python",
   "pygments_lexer": "ipython3",
   "version": "3.12.11"
  }
 },
 "nbformat": 4,
 "nbformat_minor": 4
}
